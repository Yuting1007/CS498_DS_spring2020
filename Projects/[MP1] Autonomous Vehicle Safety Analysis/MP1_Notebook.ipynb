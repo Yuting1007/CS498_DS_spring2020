{
 "cells": [
  {
   "cell_type": "markdown",
   "metadata": {
    "colab_type": "text",
    "id": "bXQ_EMVbSAYH"
   },
   "source": [
    "# MP01: CS 498 DSG (Spring 2019)\n"
   ]
  },
  {
   "cell_type": "markdown",
   "metadata": {
    "colab_type": "text",
    "id": "rILROQoXSAYK"
   },
   "source": [
    "# Task 0 – Getting to know the analysis environment"
   ]
  },
  {
   "cell_type": "markdown",
   "metadata": {
    "colab_type": "text",
    "id": "v-r1JqFySAYM"
   },
   "source": [
    "##  1. Import the data into Jupyter Notebook."
   ]
  },
  {
   "cell_type": "code",
   "execution_count": 1,
   "metadata": {
    "colab": {},
    "colab_type": "code",
    "id": "4LJtNriNV7Tr"
   },
   "outputs": [],
   "source": [
    "# import the required libraries\n",
    "import pandas as pd\n",
    "import numpy as np\n",
    "from datetime import datetime\n",
    "import matplotlib.pyplot as plt \n",
    "import seaborn as sns\n",
    "from scipy import stats\n"
   ]
  },
  {
   "cell_type": "code",
   "execution_count": 2,
   "metadata": {
    "colab": {},
    "colab_type": "code",
    "id": "4MgdBUFdSAYY"
   },
   "outputs": [],
   "source": [
    "# import the datasets\n",
    "diseng = pd.read_csv('mp1_av_disengagements.csv',sep=',') # disengagements\n",
    "t_miles = pd.read_csv('mp1_av_totalmiles.csv',sep=',')    # total miles"
   ]
  },
  {
   "cell_type": "code",
   "execution_count": 3,
   "metadata": {
    "colab": {},
    "colab_type": "code",
    "id": "uf6M2ktLW2vV"
   },
   "outputs": [],
   "source": [
    "diseng['Month']=pd.to_datetime(diseng['Month'],format='%y-%b')\n",
    "t_miles['Month']=pd.to_datetime(t_miles['Month'],format='%y-%b')"
   ]
  },
  {
   "cell_type": "code",
   "execution_count": 4,
   "metadata": {
    "colab": {
     "base_uri": "https://localhost:8080/",
     "height": 221
    },
    "colab_type": "code",
    "executionInfo": {
     "elapsed": 366,
     "status": "ok",
     "timestamp": 1550540334217,
     "user": {
      "displayName": "Qasim Nazir",
      "photoUrl": "https://lh3.googleusercontent.com/-l-ZaWBCgmIs/AAAAAAAAAAI/AAAAAAAAYSo/-zOTCilviDI/s64/photo.jpg",
      "userId": "05547482919120757611"
     },
     "user_tz": 360
    },
    "id": "ezkUd0NGSAYd",
    "outputId": "21fdfb2a-d68f-4fa0-cde3-e2e3d35ba811"
   },
   "outputs": [
    {
     "name": "stdout",
     "output_type": "stream",
     "text": [
      "(1024, 7)\n"
     ]
    },
    {
     "data": {
      "text/html": [
       "<div>\n",
       "<style scoped>\n",
       "    .dataframe tbody tr th:only-of-type {\n",
       "        vertical-align: middle;\n",
       "    }\n",
       "\n",
       "    .dataframe tbody tr th {\n",
       "        vertical-align: top;\n",
       "    }\n",
       "\n",
       "    .dataframe thead th {\n",
       "        text-align: right;\n",
       "    }\n",
       "</style>\n",
       "<table border=\"1\" class=\"dataframe\">\n",
       "  <thead>\n",
       "    <tr style=\"text-align: right;\">\n",
       "      <th></th>\n",
       "      <th>Month</th>\n",
       "      <th>Car</th>\n",
       "      <th>Location</th>\n",
       "      <th>Weather</th>\n",
       "      <th>TypeOfTrigger</th>\n",
       "      <th>ReactionTime</th>\n",
       "      <th>Cause</th>\n",
       "    </tr>\n",
       "  </thead>\n",
       "  <tbody>\n",
       "    <tr>\n",
       "      <th>0</th>\n",
       "      <td>2014-09-01</td>\n",
       "      <td>WDD2221851A001072</td>\n",
       "      <td>urban-street</td>\n",
       "      <td>cloudy</td>\n",
       "      <td>automatic</td>\n",
       "      <td>0.58</td>\n",
       "      <td>Incorrect Traffic Light Detection</td>\n",
       "    </tr>\n",
       "    <tr>\n",
       "      <th>1</th>\n",
       "      <td>2014-09-01</td>\n",
       "      <td>WDD2221851A001072</td>\n",
       "      <td>urban-street</td>\n",
       "      <td>cloudy</td>\n",
       "      <td>automatic</td>\n",
       "      <td>0.66</td>\n",
       "      <td>Adverse road surface conditions</td>\n",
       "    </tr>\n",
       "    <tr>\n",
       "      <th>2</th>\n",
       "      <td>2014-09-01</td>\n",
       "      <td>WDD2221851A001072</td>\n",
       "      <td>urban-street</td>\n",
       "      <td>cloudy</td>\n",
       "      <td>automatic</td>\n",
       "      <td>1.93</td>\n",
       "      <td>Position Estimation Failure</td>\n",
       "    </tr>\n",
       "    <tr>\n",
       "      <th>3</th>\n",
       "      <td>2014-09-01</td>\n",
       "      <td>WDD2221851A001072</td>\n",
       "      <td>urban-street</td>\n",
       "      <td>cloudy</td>\n",
       "      <td>automatic</td>\n",
       "      <td>0.65</td>\n",
       "      <td>Emergency Vehicle</td>\n",
       "    </tr>\n",
       "    <tr>\n",
       "      <th>4</th>\n",
       "      <td>2014-09-01</td>\n",
       "      <td>WDD2221851A001072</td>\n",
       "      <td>urban-street</td>\n",
       "      <td>cloudy</td>\n",
       "      <td>automatic</td>\n",
       "      <td>0.64</td>\n",
       "      <td>Adverse road surface conditions</td>\n",
       "    </tr>\n",
       "  </tbody>\n",
       "</table>\n",
       "</div>"
      ],
      "text/plain": [
       "       Month                Car      Location Weather TypeOfTrigger  \\\n",
       "0 2014-09-01  WDD2221851A001072  urban-street  cloudy     automatic   \n",
       "1 2014-09-01  WDD2221851A001072  urban-street  cloudy     automatic   \n",
       "2 2014-09-01  WDD2221851A001072  urban-street  cloudy     automatic   \n",
       "3 2014-09-01  WDD2221851A001072  urban-street  cloudy     automatic   \n",
       "4 2014-09-01  WDD2221851A001072  urban-street  cloudy     automatic   \n",
       "\n",
       "   ReactionTime                              Cause  \n",
       "0          0.58  Incorrect Traffic Light Detection  \n",
       "1          0.66    Adverse road surface conditions  \n",
       "2          1.93        Position Estimation Failure  \n",
       "3          0.65                  Emergency Vehicle  \n",
       "4          0.64    Adverse road surface conditions  "
      ]
     },
     "execution_count": 4,
     "metadata": {},
     "output_type": "execute_result"
    }
   ],
   "source": [
    "print(diseng.shape)\n",
    "diseng.head()"
   ]
  },
  {
   "cell_type": "code",
   "execution_count": 5,
   "metadata": {
    "colab": {
     "base_uri": "https://localhost:8080/",
     "height": 899
    },
    "colab_type": "code",
    "executionInfo": {
     "elapsed": 335,
     "status": "ok",
     "timestamp": 1550540339588,
     "user": {
      "displayName": "Qasim Nazir",
      "photoUrl": "https://lh3.googleusercontent.com/-l-ZaWBCgmIs/AAAAAAAAAAI/AAAAAAAAYSo/-zOTCilviDI/s64/photo.jpg",
      "userId": "05547482919120757611"
     },
     "user_tz": 360
    },
    "id": "ibi17TnMSAYn",
    "outputId": "64130706-134b-4eae-95c8-a82af2c8c2d9"
   },
   "outputs": [
    {
     "name": "stdout",
     "output_type": "stream",
     "text": [
      "(17, 6)\n"
     ]
    },
    {
     "data": {
      "text/html": [
       "<div>\n",
       "<style scoped>\n",
       "    .dataframe tbody tr th:only-of-type {\n",
       "        vertical-align: middle;\n",
       "    }\n",
       "\n",
       "    .dataframe tbody tr th {\n",
       "        vertical-align: top;\n",
       "    }\n",
       "\n",
       "    .dataframe thead th {\n",
       "        text-align: right;\n",
       "    }\n",
       "</style>\n",
       "<table border=\"1\" class=\"dataframe\">\n",
       "  <thead>\n",
       "    <tr style=\"text-align: right;\">\n",
       "      <th></th>\n",
       "      <th>Month</th>\n",
       "      <th>Car</th>\n",
       "      <th>miles driven in autonomous mode</th>\n",
       "      <th>total number of disengagements</th>\n",
       "      <th>number of automatic disengagements</th>\n",
       "      <th>number of manual disengagements</th>\n",
       "    </tr>\n",
       "  </thead>\n",
       "  <tbody>\n",
       "    <tr>\n",
       "      <th>0</th>\n",
       "      <td>2014-09-01</td>\n",
       "      <td>WDD2221851A001072</td>\n",
       "      <td>4207</td>\n",
       "      <td>44</td>\n",
       "      <td>24</td>\n",
       "      <td>20</td>\n",
       "    </tr>\n",
       "    <tr>\n",
       "      <th>1</th>\n",
       "      <td>2014-10-01</td>\n",
       "      <td>WDD2221851A001072</td>\n",
       "      <td>23971</td>\n",
       "      <td>228</td>\n",
       "      <td>100</td>\n",
       "      <td>128</td>\n",
       "    </tr>\n",
       "    <tr>\n",
       "      <th>2</th>\n",
       "      <td>2014-11-01</td>\n",
       "      <td>WDD2221851A001072</td>\n",
       "      <td>15837</td>\n",
       "      <td>141</td>\n",
       "      <td>66</td>\n",
       "      <td>75</td>\n",
       "    </tr>\n",
       "    <tr>\n",
       "      <th>3</th>\n",
       "      <td>2014-12-01</td>\n",
       "      <td>WDD2221851A001072</td>\n",
       "      <td>9413</td>\n",
       "      <td>36</td>\n",
       "      <td>15</td>\n",
       "      <td>21</td>\n",
       "    </tr>\n",
       "    <tr>\n",
       "      <th>4</th>\n",
       "      <td>2015-01-01</td>\n",
       "      <td>WDD2221851A001072</td>\n",
       "      <td>18192</td>\n",
       "      <td>48</td>\n",
       "      <td>18</td>\n",
       "      <td>30</td>\n",
       "    </tr>\n",
       "    <tr>\n",
       "      <th>5</th>\n",
       "      <td>2015-02-01</td>\n",
       "      <td>WDD2221851A001072</td>\n",
       "      <td>18745</td>\n",
       "      <td>16</td>\n",
       "      <td>8</td>\n",
       "      <td>8</td>\n",
       "    </tr>\n",
       "    <tr>\n",
       "      <th>6</th>\n",
       "      <td>2015-03-01</td>\n",
       "      <td>WDD2221851A001072</td>\n",
       "      <td>22204</td>\n",
       "      <td>39</td>\n",
       "      <td>31</td>\n",
       "      <td>8</td>\n",
       "    </tr>\n",
       "    <tr>\n",
       "      <th>7</th>\n",
       "      <td>2015-04-01</td>\n",
       "      <td>WDD2221851A001072</td>\n",
       "      <td>31927</td>\n",
       "      <td>72</td>\n",
       "      <td>51</td>\n",
       "      <td>21</td>\n",
       "    </tr>\n",
       "    <tr>\n",
       "      <th>8</th>\n",
       "      <td>2015-05-01</td>\n",
       "      <td>WDD2221851A001072</td>\n",
       "      <td>38017</td>\n",
       "      <td>34</td>\n",
       "      <td>11</td>\n",
       "      <td>23</td>\n",
       "    </tr>\n",
       "    <tr>\n",
       "      <th>9</th>\n",
       "      <td>2015-06-01</td>\n",
       "      <td>WDD2221851A001072</td>\n",
       "      <td>42047</td>\n",
       "      <td>127</td>\n",
       "      <td>58</td>\n",
       "      <td>69</td>\n",
       "    </tr>\n",
       "    <tr>\n",
       "      <th>10</th>\n",
       "      <td>2015-07-01</td>\n",
       "      <td>WDD2221851A001072</td>\n",
       "      <td>34805</td>\n",
       "      <td>69</td>\n",
       "      <td>30</td>\n",
       "      <td>39</td>\n",
       "    </tr>\n",
       "    <tr>\n",
       "      <th>11</th>\n",
       "      <td>2015-08-01</td>\n",
       "      <td>WDD2221851A001072</td>\n",
       "      <td>38220</td>\n",
       "      <td>24</td>\n",
       "      <td>13</td>\n",
       "      <td>11</td>\n",
       "    </tr>\n",
       "    <tr>\n",
       "      <th>12</th>\n",
       "      <td>2015-09-01</td>\n",
       "      <td>WDD2221851A001072</td>\n",
       "      <td>36327</td>\n",
       "      <td>43</td>\n",
       "      <td>22</td>\n",
       "      <td>21</td>\n",
       "    </tr>\n",
       "    <tr>\n",
       "      <th>13</th>\n",
       "      <td>2015-10-01</td>\n",
       "      <td>WDD2221851A001072</td>\n",
       "      <td>47144</td>\n",
       "      <td>17</td>\n",
       "      <td>5</td>\n",
       "      <td>12</td>\n",
       "    </tr>\n",
       "    <tr>\n",
       "      <th>14</th>\n",
       "      <td>2015-11-01</td>\n",
       "      <td>WDD2221851A001072</td>\n",
       "      <td>43276</td>\n",
       "      <td>22</td>\n",
       "      <td>11</td>\n",
       "      <td>11</td>\n",
       "    </tr>\n",
       "    <tr>\n",
       "      <th>15</th>\n",
       "      <td>2014-10-01</td>\n",
       "      <td>WDD2221851A000495</td>\n",
       "      <td>37910</td>\n",
       "      <td>16</td>\n",
       "      <td>11</td>\n",
       "      <td>5</td>\n",
       "    </tr>\n",
       "    <tr>\n",
       "      <th>16</th>\n",
       "      <td>2014-11-01</td>\n",
       "      <td>WDD2221851A000495</td>\n",
       "      <td>42987</td>\n",
       "      <td>48</td>\n",
       "      <td>19</td>\n",
       "      <td>29</td>\n",
       "    </tr>\n",
       "  </tbody>\n",
       "</table>\n",
       "</div>"
      ],
      "text/plain": [
       "        Month                Car  miles driven in autonomous mode  \\\n",
       "0  2014-09-01  WDD2221851A001072                             4207   \n",
       "1  2014-10-01  WDD2221851A001072                            23971   \n",
       "2  2014-11-01  WDD2221851A001072                            15837   \n",
       "3  2014-12-01  WDD2221851A001072                             9413   \n",
       "4  2015-01-01  WDD2221851A001072                            18192   \n",
       "5  2015-02-01  WDD2221851A001072                            18745   \n",
       "6  2015-03-01  WDD2221851A001072                            22204   \n",
       "7  2015-04-01  WDD2221851A001072                            31927   \n",
       "8  2015-05-01  WDD2221851A001072                            38017   \n",
       "9  2015-06-01  WDD2221851A001072                            42047   \n",
       "10 2015-07-01  WDD2221851A001072                            34805   \n",
       "11 2015-08-01  WDD2221851A001072                            38220   \n",
       "12 2015-09-01  WDD2221851A001072                            36327   \n",
       "13 2015-10-01  WDD2221851A001072                            47144   \n",
       "14 2015-11-01  WDD2221851A001072                            43276   \n",
       "15 2014-10-01  WDD2221851A000495                            37910   \n",
       "16 2014-11-01  WDD2221851A000495                            42987   \n",
       "\n",
       "    total number of disengagements  number of automatic disengagements  \\\n",
       "0                               44                                  24   \n",
       "1                              228                                 100   \n",
       "2                              141                                  66   \n",
       "3                               36                                  15   \n",
       "4                               48                                  18   \n",
       "5                               16                                   8   \n",
       "6                               39                                  31   \n",
       "7                               72                                  51   \n",
       "8                               34                                  11   \n",
       "9                              127                                  58   \n",
       "10                              69                                  30   \n",
       "11                              24                                  13   \n",
       "12                              43                                  22   \n",
       "13                              17                                   5   \n",
       "14                              22                                  11   \n",
       "15                              16                                  11   \n",
       "16                              48                                  19   \n",
       "\n",
       "    number of manual disengagements  \n",
       "0                                20  \n",
       "1                               128  \n",
       "2                                75  \n",
       "3                                21  \n",
       "4                                30  \n",
       "5                                 8  \n",
       "6                                 8  \n",
       "7                                21  \n",
       "8                                23  \n",
       "9                                69  \n",
       "10                               39  \n",
       "11                               11  \n",
       "12                               21  \n",
       "13                               12  \n",
       "14                               11  \n",
       "15                                5  \n",
       "16                               29  "
      ]
     },
     "execution_count": 5,
     "metadata": {},
     "output_type": "execute_result"
    }
   ],
   "source": [
    "print(t_miles.shape)\n",
    "t_miles"
   ]
  },
  {
   "cell_type": "markdown",
   "metadata": {
    "colab_type": "text",
    "id": "d42dCQJ-SAY3"
   },
   "source": [
    "##  2. Summarize the following information"
   ]
  },
  {
   "cell_type": "markdown",
   "metadata": {
    "colab_type": "text",
    "id": "uZeDqQmHSAY4"
   },
   "source": [
    "### a. Total number of AV disengagements over the entire duration of available data"
   ]
  },
  {
   "cell_type": "code",
   "execution_count": 6,
   "metadata": {
    "colab": {
     "base_uri": "https://localhost:8080/",
     "height": 35
    },
    "colab_type": "code",
    "id": "SiSHuXbNSAY7",
    "outputId": "4d9792f3-3cc5-40c8-9273-ad60a373e959"
   },
   "outputs": [
    {
     "name": "stdout",
     "output_type": "stream",
     "text": [
      "1024\n"
     ]
    }
   ],
   "source": [
    "print(t_miles['total number of disengagements'].sum())"
   ]
  },
  {
   "cell_type": "markdown",
   "metadata": {
    "colab_type": "text",
    "id": "TYpCs696SAZC"
   },
   "source": [
    "### b. Number of unique months that have recorded AV disengagements"
   ]
  },
  {
   "cell_type": "code",
   "execution_count": 7,
   "metadata": {
    "colab": {
     "base_uri": "https://localhost:8080/",
     "height": 35
    },
    "colab_type": "code",
    "id": "IzCFK_rISAZF",
    "outputId": "92cda147-7dff-4db5-9e40-a33a2b22f453"
   },
   "outputs": [
    {
     "name": "stdout",
     "output_type": "stream",
     "text": [
      "15\n"
     ]
    }
   ],
   "source": [
    "unique_months = t_miles['Month'].unique()\n",
    "print(len(unique_months))"
   ]
  },
  {
   "cell_type": "markdown",
   "metadata": {
    "colab_type": "text",
    "id": "yN1kbbpOSAZN"
   },
   "source": [
    "### c. List of unique locations of AV disengagements"
   ]
  },
  {
   "cell_type": "code",
   "execution_count": 8,
   "metadata": {
    "colab": {
     "base_uri": "https://localhost:8080/",
     "height": 35
    },
    "colab_type": "code",
    "id": "aag7DTYqSAZP",
    "outputId": "bd1676c4-a8aa-4b7e-9ce5-42f045c6591a"
   },
   "outputs": [
    {
     "name": "stdout",
     "output_type": "stream",
     "text": [
      "['urban-street' 'highway']\n"
     ]
    }
   ],
   "source": [
    "unique_locations = diseng['Location'].unique()\n",
    "print(unique_locations)"
   ]
  },
  {
   "cell_type": "markdown",
   "metadata": {
    "colab_type": "text",
    "id": "f5gmHiCXSAZV"
   },
   "source": [
    "### d. Number of unique causes for AV disengagements"
   ]
  },
  {
   "cell_type": "code",
   "execution_count": 9,
   "metadata": {
    "colab": {
     "base_uri": "https://localhost:8080/",
     "height": 35
    },
    "colab_type": "code",
    "id": "Z0MsNMKISAZX",
    "outputId": "e5fb8efc-6340-4763-c05b-72b4fa738695"
   },
   "outputs": [
    {
     "name": "stdout",
     "output_type": "stream",
     "text": [
      "10\n"
     ]
    }
   ],
   "source": [
    "unique_cause= diseng['Cause'].unique()\n",
    "print(len(unique_cause))"
   ]
  },
  {
   "cell_type": "markdown",
   "metadata": {
    "colab_type": "text",
    "id": "1EP5IQ4FSAZe"
   },
   "source": [
    "### e. Number of missing values (NAs commonly occur in real world datasets)"
   ]
  },
  {
   "cell_type": "code",
   "execution_count": 10,
   "metadata": {
    "colab": {
     "base_uri": "https://localhost:8080/",
     "height": 35
    },
    "colab_type": "code",
    "id": "ppayGZxiW2wV",
    "outputId": "c6ee0628-4a33-4f4c-981e-f3cd9a016634"
   },
   "outputs": [
    {
     "data": {
      "text/plain": [
       "532"
      ]
     },
     "execution_count": 10,
     "metadata": {},
     "output_type": "execute_result"
    }
   ],
   "source": [
    "diseng['ReactionTime'].isnull().sum()"
   ]
  },
  {
   "cell_type": "markdown",
   "metadata": {
    "colab_type": "text",
    "id": "g-MFRaELSAZl"
   },
   "source": [
    "## 3. Plot a pie chart for the causes of AV disengagement. Based on the pie-chart, list the top 2 leading causes of disengagement?"
   ]
  },
  {
   "cell_type": "code",
   "execution_count": 11,
   "metadata": {
    "colab": {
     "base_uri": "https://localhost:8080/",
     "height": 364
    },
    "colab_type": "code",
    "id": "0C-5kNfWfQkM",
    "outputId": "8b8f17bd-505d-43da-bc80-dddc2cd521ab"
   },
   "outputs": [
    {
     "data": {
      "text/plain": [
       "Text(0.5, 1.0, 'Causes of Disengagement')"
      ]
     },
     "execution_count": 11,
     "metadata": {},
     "output_type": "execute_result"
    },
    {
     "data": {
      "image/png": "[encoded data removed]",
      "text/plain": [
       "<Figure size 432x288 with 1 Axes>"
      ]
     },
     "metadata": {},
     "output_type": "display_data"
    }
   ],
   "source": [
    "# series =pd.Series(diseng['Cause'].values).value_counts()\n",
    "# ax = series.plot(kind='pie',title= 'Causes',autopct='%1.2f%%')\n",
    "# ax.set_ylabel('')\n",
    "# ax.set_title('Causes of Disengagement')\n",
    "\n",
    "#pie plot\n",
    "#get the causes data with index using series\n",
    "series = pd.Series(diseng['Cause'].value_counts())\n",
    "#plot pie\n",
    "\n",
    "ax = series.plot(kind = 'pie',autopct='%1.2f%%')\n",
    "ax.set_ylabel('') #remove the ylabel\n",
    "ax.set_title('Causes of Disengagement')"
   ]
  },
  {
   "cell_type": "code",
   "execution_count": 12,
   "metadata": {
    "colab": {
     "base_uri": "https://localhost:8080/",
     "height": 54
    },
    "colab_type": "code",
    "id": "-U3PuvC0sPl8",
    "outputId": "21f33c29-0641-4258-8b44-f9f5cfcb17dc"
   },
   "outputs": [
    {
     "name": "stdout",
     "output_type": "stream",
     "text": [
      "2nd leading Cause of Disengagement: 128\t Percentage: 12.5%\n",
      "2nd leading Cause of Disengagement: 124\t Percentage: 12.109375%\n"
     ]
    }
   ],
   "source": [
    "# print(\"1st leading Cause of Disengagement: {0}\\t Perecentage: {1}%\".format(series.index[0],100*series[0]/sum(series)))\n",
    "# print(\"2nd leading Cause of Disengagement: {0}\\t Perecentage: {1}%\".format(series.index[1],100*series[1]/sum(series)))\n",
    "\n",
    "print(\"2nd leading Cause of Disengagement: {0}\\t Percentage: {1}%\".format(series[0], 100 * series[0]/sum(series)))\n",
    "print(\"2nd leading Cause of Disengagement: {0}\\t Percentage: {1}%\".format(series[1], 100 * series[1]/sum(series)))"
   ]
  },
  {
   "cell_type": "markdown",
   "metadata": {
    "colab_type": "text",
    "id": "cQxuTim3SAZr"
   },
   "source": [
    "## 4. Visualize the trend of disengagement/mile over time with monthly granularity. How would you describe the trend? Are AV’s maturing over time?"
   ]
  },
  {
   "cell_type": "code",
   "execution_count": 13,
   "metadata": {
    "colab": {},
    "colab_type": "code",
    "id": "DXfNHMTzW2wn"
   },
   "outputs": [],
   "source": [
    "trend = t_miles.groupby('Month').sum().reset_index()\n",
    "# reset_index() can generate a default index for the df. Otherwise the month will be the index\n",
    "trend['disengagement per mile'] = trend['total number of disengagements']/trend['miles driven in autonomous mode']"
   ]
  },
  {
   "cell_type": "code",
   "execution_count": 14,
   "metadata": {
    "colab": {
     "base_uri": "https://localhost:8080/",
     "height": 786
    },
    "colab_type": "code",
    "id": "OEJV0427mvLH",
    "outputId": "6f00d584-50a5-4e02-e35e-00908072506a"
   },
   "outputs": [
    {
     "data": {
      "text/html": [
       "<div>\n",
       "<style scoped>\n",
       "    .dataframe tbody tr th:only-of-type {\n",
       "        vertical-align: middle;\n",
       "    }\n",
       "\n",
       "    .dataframe tbody tr th {\n",
       "        vertical-align: top;\n",
       "    }\n",
       "\n",
       "    .dataframe thead th {\n",
       "        text-align: right;\n",
       "    }\n",
       "</style>\n",
       "<table border=\"1\" class=\"dataframe\">\n",
       "  <thead>\n",
       "    <tr style=\"text-align: right;\">\n",
       "      <th></th>\n",
       "      <th>Month</th>\n",
       "      <th>miles driven in autonomous mode</th>\n",
       "      <th>total number of disengagements</th>\n",
       "      <th>number of automatic disengagements</th>\n",
       "      <th>number of manual disengagements</th>\n",
       "      <th>disengagement per mile</th>\n",
       "    </tr>\n",
       "  </thead>\n",
       "  <tbody>\n",
       "    <tr>\n",
       "      <th>0</th>\n",
       "      <td>2014-09-01</td>\n",
       "      <td>4207</td>\n",
       "      <td>44</td>\n",
       "      <td>24</td>\n",
       "      <td>20</td>\n",
       "      <td>0.010459</td>\n",
       "    </tr>\n",
       "    <tr>\n",
       "      <th>1</th>\n",
       "      <td>2014-10-01</td>\n",
       "      <td>61881</td>\n",
       "      <td>244</td>\n",
       "      <td>111</td>\n",
       "      <td>133</td>\n",
       "      <td>0.003943</td>\n",
       "    </tr>\n",
       "    <tr>\n",
       "      <th>2</th>\n",
       "      <td>2014-11-01</td>\n",
       "      <td>58824</td>\n",
       "      <td>189</td>\n",
       "      <td>85</td>\n",
       "      <td>104</td>\n",
       "      <td>0.003213</td>\n",
       "    </tr>\n",
       "    <tr>\n",
       "      <th>3</th>\n",
       "      <td>2014-12-01</td>\n",
       "      <td>9413</td>\n",
       "      <td>36</td>\n",
       "      <td>15</td>\n",
       "      <td>21</td>\n",
       "      <td>0.003824</td>\n",
       "    </tr>\n",
       "    <tr>\n",
       "      <th>4</th>\n",
       "      <td>2015-01-01</td>\n",
       "      <td>18192</td>\n",
       "      <td>48</td>\n",
       "      <td>18</td>\n",
       "      <td>30</td>\n",
       "      <td>0.002639</td>\n",
       "    </tr>\n",
       "    <tr>\n",
       "      <th>5</th>\n",
       "      <td>2015-02-01</td>\n",
       "      <td>18745</td>\n",
       "      <td>16</td>\n",
       "      <td>8</td>\n",
       "      <td>8</td>\n",
       "      <td>0.000854</td>\n",
       "    </tr>\n",
       "    <tr>\n",
       "      <th>6</th>\n",
       "      <td>2015-03-01</td>\n",
       "      <td>22204</td>\n",
       "      <td>39</td>\n",
       "      <td>31</td>\n",
       "      <td>8</td>\n",
       "      <td>0.001756</td>\n",
       "    </tr>\n",
       "    <tr>\n",
       "      <th>7</th>\n",
       "      <td>2015-04-01</td>\n",
       "      <td>31927</td>\n",
       "      <td>72</td>\n",
       "      <td>51</td>\n",
       "      <td>21</td>\n",
       "      <td>0.002255</td>\n",
       "    </tr>\n",
       "    <tr>\n",
       "      <th>8</th>\n",
       "      <td>2015-05-01</td>\n",
       "      <td>38017</td>\n",
       "      <td>34</td>\n",
       "      <td>11</td>\n",
       "      <td>23</td>\n",
       "      <td>0.000894</td>\n",
       "    </tr>\n",
       "    <tr>\n",
       "      <th>9</th>\n",
       "      <td>2015-06-01</td>\n",
       "      <td>42047</td>\n",
       "      <td>127</td>\n",
       "      <td>58</td>\n",
       "      <td>69</td>\n",
       "      <td>0.003020</td>\n",
       "    </tr>\n",
       "    <tr>\n",
       "      <th>10</th>\n",
       "      <td>2015-07-01</td>\n",
       "      <td>34805</td>\n",
       "      <td>69</td>\n",
       "      <td>30</td>\n",
       "      <td>39</td>\n",
       "      <td>0.001982</td>\n",
       "    </tr>\n",
       "    <tr>\n",
       "      <th>11</th>\n",
       "      <td>2015-08-01</td>\n",
       "      <td>38220</td>\n",
       "      <td>24</td>\n",
       "      <td>13</td>\n",
       "      <td>11</td>\n",
       "      <td>0.000628</td>\n",
       "    </tr>\n",
       "    <tr>\n",
       "      <th>12</th>\n",
       "      <td>2015-09-01</td>\n",
       "      <td>36327</td>\n",
       "      <td>43</td>\n",
       "      <td>22</td>\n",
       "      <td>21</td>\n",
       "      <td>0.001184</td>\n",
       "    </tr>\n",
       "    <tr>\n",
       "      <th>13</th>\n",
       "      <td>2015-10-01</td>\n",
       "      <td>47144</td>\n",
       "      <td>17</td>\n",
       "      <td>5</td>\n",
       "      <td>12</td>\n",
       "      <td>0.000361</td>\n",
       "    </tr>\n",
       "    <tr>\n",
       "      <th>14</th>\n",
       "      <td>2015-11-01</td>\n",
       "      <td>43276</td>\n",
       "      <td>22</td>\n",
       "      <td>11</td>\n",
       "      <td>11</td>\n",
       "      <td>0.000508</td>\n",
       "    </tr>\n",
       "  </tbody>\n",
       "</table>\n",
       "</div>"
      ],
      "text/plain": [
       "        Month  miles driven in autonomous mode  \\\n",
       "0  2014-09-01                             4207   \n",
       "1  2014-10-01                            61881   \n",
       "2  2014-11-01                            58824   \n",
       "3  2014-12-01                             9413   \n",
       "4  2015-01-01                            18192   \n",
       "5  2015-02-01                            18745   \n",
       "6  2015-03-01                            22204   \n",
       "7  2015-04-01                            31927   \n",
       "8  2015-05-01                            38017   \n",
       "9  2015-06-01                            42047   \n",
       "10 2015-07-01                            34805   \n",
       "11 2015-08-01                            38220   \n",
       "12 2015-09-01                            36327   \n",
       "13 2015-10-01                            47144   \n",
       "14 2015-11-01                            43276   \n",
       "\n",
       "    total number of disengagements  number of automatic disengagements  \\\n",
       "0                               44                                  24   \n",
       "1                              244                                 111   \n",
       "2                              189                                  85   \n",
       "3                               36                                  15   \n",
       "4                               48                                  18   \n",
       "5                               16                                   8   \n",
       "6                               39                                  31   \n",
       "7                               72                                  51   \n",
       "8                               34                                  11   \n",
       "9                              127                                  58   \n",
       "10                              69                                  30   \n",
       "11                              24                                  13   \n",
       "12                              43                                  22   \n",
       "13                              17                                   5   \n",
       "14                              22                                  11   \n",
       "\n",
       "    number of manual disengagements  disengagement per mile  \n",
       "0                                20                0.010459  \n",
       "1                               133                0.003943  \n",
       "2                               104                0.003213  \n",
       "3                                21                0.003824  \n",
       "4                                30                0.002639  \n",
       "5                                 8                0.000854  \n",
       "6                                 8                0.001756  \n",
       "7                                21                0.002255  \n",
       "8                                23                0.000894  \n",
       "9                                69                0.003020  \n",
       "10                               39                0.001982  \n",
       "11                               11                0.000628  \n",
       "12                               21                0.001184  \n",
       "13                               12                0.000361  \n",
       "14                               11                0.000508  "
      ]
     },
     "execution_count": 14,
     "metadata": {},
     "output_type": "execute_result"
    }
   ],
   "source": [
    "trend"
   ]
  },
  {
   "cell_type": "code",
   "execution_count": 15,
   "metadata": {
    "colab": {
     "base_uri": "https://localhost:8080/",
     "height": 467
    },
    "colab_type": "code",
    "id": "-iRm_fAzW2wv",
    "outputId": "dd7787d6-4644-403e-b987-7f6f75717c82"
   },
   "outputs": [
    {
     "data": {
      "text/plain": [
       "Text(0, 0.5, 'disengagement per mile')"
      ]
     },
     "execution_count": 15,
     "metadata": {},
     "output_type": "execute_result"
    },
    {
     "data": {
      "image/png": "[encoded data removed]",
      "text/plain": [
       "<Figure size 720x360 with 1 Axes>"
      ]
     },
     "metadata": {
      "needs_background": "light"
     },
     "output_type": "display_data"
    }
   ],
   "source": [
    "# ax = trend.plot(x='Month',y='disengagement per mile',figsize=(10,5), linewidth=5, fontsize=20,legend=False)\n",
    "# ax.set_title('Trend of Disengagement per Mile', fontsize=20)\n",
    "# ax.set_xlabel('Time (month)', fontsize=20)\n",
    "# ax.set_ylabel('disengagement per mile', fontsize=20)\n",
    "\n",
    "ax = trend.plot(x= \"Month\", y=\"disengagement per mile\", figsize=(10,5), linewidth=5, fontsize=20,legend=False)\n",
    "ax.set_title('Trend of Disengagement per Mile', fontsize=20)\n",
    "ax.set_xlabel('Time (month)', fontsize=20)\n",
    "ax.set_ylabel('disengagement per mile', fontsize=20)"
   ]
  },
  {
   "cell_type": "markdown",
   "metadata": {
    "colab_type": "text",
    "id": "rHn-tIa0W2wz"
   },
   "source": [
    "It can be seen that there is a decreasing trend in disengagements per mile. That means that autonomous vehicles are improving with time."
   ]
  },
  {
   "cell_type": "markdown",
   "metadata": {
    "colab_type": "text",
    "id": "12tb2yjGSAZ1"
   },
   "source": [
    "# Task 1 – Basic Analysis of AV Disengagements"
   ]
  },
  {
   "cell_type": "markdown",
   "metadata": {
    "colab_type": "text",
    "id": "kWFzasEaSAZ4"
   },
   "source": [
    "## 1. What do the following distributions signify about samples drawn from it"
   ]
  },
  {
   "cell_type": "markdown",
   "metadata": {
    "colab_type": "text",
    "id": "eLqafD48SAaA"
   },
   "source": [
    "### a. Gaussian distribution"
   ]
  },
  {
   "cell_type": "markdown",
   "metadata": {
    "colab_type": "text",
    "id": "-wLFZEivfQkw"
   },
   "source": [
    "Central Limit theorem\n",
    "\n",
    "Let $X_1,X_2,...,X_n$ be i.i.d. random variables with expected value $E(X_i)= \\mu$ and variance$ 0<Var(X_i)= \\sigma^2<\\infty$. Then, the random variable\n",
    "$Z_n= \\frac{\\bar{X} -\\mu}{\\sigma/ \\sqrt{n}}= \\frac{X_1+X_2+...+X_n -n\\mu} {n \\sqrt{σ}}$\n",
    "converges in distribution to the standard normal random variable as $n$ goes to infinity"
   ]
  },
  {
   "cell_type": "markdown",
   "metadata": {
    "colab_type": "text",
    "id": "C9UpIGjkmCNE"
   },
   "source": [
    "The Gaussian distribution is useful because of the central limit theorem which establishes that, in some situations, when independent random variables are added, their properly normalized sum tends toward a normal distribution regardless of the underlying distribution of the original random variables. So, if we have a sample drawn from a Gaussian distribution, it siginifies that the random variable itself may be a sum of identically distributed independent random variables with some distributions.\n",
    "\n",
    "PDF: ${\\displaystyle f(x\\mid \\mu ,\\sigma ^{2})={\\frac {1}{\\sqrt {2\\pi \\sigma ^{2}}}}e^{-{\\frac {(x-\\mu )^{2}}{2\\sigma ^{2}}}}}$"
   ]
  },
  {
   "cell_type": "markdown",
   "metadata": {
    "colab_type": "text",
    "id": "qCuGwc83SAaH"
   },
   "source": [
    "### b. Exponential distribution"
   ]
  },
  {
   "cell_type": "markdown",
   "metadata": {
    "colab_type": "text",
    "id": "z409EABgl-U1"
   },
   "source": [
    "The exponential distribution (also known as the negative exponential distribution) is the probability distribution that describes the time between events in a Poisson process, that is, a process in which events occur continuously and independently at a constant average rate. Also, exponential distribution exhibits the memorlyess property, i.e., $\\Pr(X> m+n \\mid X \\geq m) = \\Pr(X > n)$\n",
    "\n",
    "PDF: $ f(x;\\lambda) = \\begin{cases}\n",
    "\\lambda e^{-\\lambda x} & x \\ge 0, \\\\\n",
    "0 & x < 0.\n",
    "\\end{cases}$"
   ]
  },
  {
   "cell_type": "markdown",
   "metadata": {
    "colab_type": "text",
    "id": "1ob1ikgISAaO"
   },
   "source": [
    "### c. Weibull distribution"
   ]
  },
  {
   "cell_type": "markdown",
   "metadata": {
    "colab_type": "text",
    "id": "Uf18GOy8l57t"
   },
   "source": [
    "The probability density function of a Weibull random variable is:\n",
    "$\n",
    "{\\displaystyle f(x;\\lambda ,k)={\\begin{cases}{\\frac {k}{\\lambda }}\\left({\\frac {x}{\\lambda }}\\right)^{k-1}e^{-(x/\\lambda )^{k}}&x\\geq 0,\\\\0&x<0,\\end{cases}}}$\n",
    "\n",
    "where k > 0 is the shape parameter and $\\lambda$ > 0 is the scale parameter of the distribution. Its complementary cumulative distribution function is a stretched exponential function. The Weibull distribution is related to a number of other probability distributions; in particular, it interpolates between the exponential distribution (k = 1) and the Rayleigh distribution (k = 2 and ${\\displaystyle \\lambda ={\\sqrt {2}}\\sigma }).$"
   ]
  },
  {
   "cell_type": "markdown",
   "metadata": {
    "colab_type": "text",
    "id": "0OWbfxJcSAaT"
   },
   "source": [
    "## 2.  Plot the probability distribution of reaction times. Does this distribution fit any known distributions (Gaussian, Weibull, Exponential)? What does the fit distribution signify?"
   ]
  },
  {
   "cell_type": "code",
   "execution_count": 16,
   "metadata": {
    "colab": {},
    "colab_type": "code",
    "id": "qv8X_083fQlE",
    "outputId": "7347eddf-3314-4c87-f64f-556fb3f742aa",
    "scrolled": true
   },
   "outputs": [
    {
     "data": {
      "text/plain": [
       "<matplotlib.axes._subplots.AxesSubplot at 0x1a7776f7cf8>"
      ]
     },
     "execution_count": 16,
     "metadata": {},
     "output_type": "execute_result"
    },
    {
     "data": {
      "image/png": "[encoded data removed]",
      "text/plain": [
       "<Figure size 432x288 with 1 Axes>"
      ]
     },
     "metadata": {
      "needs_background": "light"
     },
     "output_type": "display_data"
    }
   ],
   "source": [
    "# diseng['ReactionTime'].dropna().plot(kind='hist',bins=50,density=True)\n",
    "# plt.title('Probability Distribution Plot')\n",
    "# plt.xlabel('Reaction Time (s)')\n",
    "# plt.ylabel('Frequency')\n",
    "\n",
    "diseng['ReactionTime'].dropna().plot(kind = 'hist',bins = 50, density = True)\n",
    "# plt.title('Probability Distribution Plot')\n",
    "# plt.xlabel('Reaction Time (s)')\n",
    "# plt.ylabel('Frequency')\n",
    "#remember to drop na"
   ]
  },
  {
   "cell_type": "code",
   "execution_count": 17,
   "metadata": {
    "colab": {},
    "colab_type": "code",
    "id": "T3ww2aNefQlI"
   },
   "outputs": [],
   "source": [
    "# reference:\n",
    "# https://stackoverflow.com/questions/37487830/how-to-find-probability-distribution-and-parameters-for-real-data-python-3\n",
    "import scipy.stats as st\n",
    "\n",
    "def get_best_distribution(data,dist_names):\n",
    "    dist_results = []\n",
    "    params = {}\n",
    "    for dist_name in dist_names:\n",
    "        dist = getattr(st, dist_name)\n",
    "        # fit the distribution and get parameters\n",
    "        param = dist.fit(data)\n",
    "        params[dist_name] = param\n",
    "        # Applying the Kolmogorov-Smirnov test\n",
    "        D, p = st.kstest(data, dist_name, args=param)\n",
    "        print(\"p value for \"+dist_name+\" = \"+str(p))\n",
    "        dist_results.append((dist_name, p))\n",
    "\n",
    "    # select the best fitted distribution\n",
    "    best_dist, best_p = (max(dist_results, key=lambda item: item[1]))#lambda here\n",
    "\n",
    "    print(\"Best fitting distribution: \"+str(best_dist))\n",
    "    print(\"Best p value: \"+ str(best_p))\n",
    "    print(\"Parameters for the best fit: \"+ str(params[best_dist]))\n",
    "\n",
    "    return best_dist, best_p, params[best_dist]"
   ]
  },
  {
   "cell_type": "code",
   "execution_count": 18,
   "metadata": {
    "colab": {},
    "colab_type": "code",
    "id": "mKvXMGdffQlM",
    "outputId": "7c49daab-28e3-4636-b9b8-19310e9d9aed"
   },
   "outputs": [
    {
     "name": "stdout",
     "output_type": "stream",
     "text": [
      "p value for norm = 1.7795371657699897e-37\n",
      "p value for expon = 2.9315375752638033e-05\n",
      "p value for exponweib = 0.5797693796632604\n",
      "p value for gamma = 0.0\n",
      "Best fitting distribution: exponweib\n",
      "Best p value: 0.5797693796632604\n",
      "Parameters for the best fit: (62.13448003707407, 0.304116246270133, -0.09454998901334455, 0.00459917324040706)\n"
     ]
    }
   ],
   "source": [
    "reaction = diseng['ReactionTime'].dropna().values\n",
    "dist_names = ['norm','expon','exponweib','gamma']\n",
    "best_dist, best_p, params=get_best_distribution(reaction,dist_names)"
   ]
  },
  {
   "cell_type": "code",
   "execution_count": 19,
   "metadata": {
    "colab": {},
    "colab_type": "code",
    "id": "GuGTfPO0fQlT",
    "outputId": "e0c87cbc-37de-4848-f406-301bbf4c1614"
   },
   "outputs": [
    {
     "data": {
      "text/plain": [
       "Text(0, 0.5, 'Frequency')"
      ]
     },
     "execution_count": 19,
     "metadata": {},
     "output_type": "execute_result"
    },
    {
     "data": {
      "image/png": "[encoded data removed]",
      "text/plain": [
       "<Figure size 432x288 with 1 Axes>"
      ]
     },
     "metadata": {
      "needs_background": "light"
     },
     "output_type": "display_data"
    }
   ],
   "source": [
    "sns.distplot(reaction,fit=stats.exponweib,kde=False)\n",
    "plt.title('Expon Weilbul Distribution Fit')\n",
    "plt.xlabel('Reaction Time (s)')\n",
    "plt.ylabel('Frequency')"
   ]
  },
  {
   "cell_type": "markdown",
   "metadata": {
    "colab_type": "text",
    "id": "vSz5aR6hfPZ2"
   },
   "source": [
    "The reaction time has a weibul distribution which signifies that the probability of reaction time of a human being high is low."
   ]
  },
  {
   "cell_type": "markdown",
   "metadata": {
    "colab_type": "text",
    "id": "50E1P7ezSAab"
   },
   "source": [
    "## 3. Compute the average reaction time"
   ]
  },
  {
   "cell_type": "markdown",
   "metadata": {
    "colab_type": "text",
    "id": "a1l2n3EaSAae"
   },
   "source": [
    "### a. For the entire duration of the dataset"
   ]
  },
  {
   "cell_type": "code",
   "execution_count": 20,
   "metadata": {
    "colab": {},
    "colab_type": "code",
    "id": "reybGrVTSAaf",
    "outputId": "b8fd8dbb-e3c1-4389-f5b7-29f25f6becf5"
   },
   "outputs": [
    {
     "name": "stdout",
     "output_type": "stream",
     "text": [
      "0.9297703252032526\n"
     ]
    }
   ],
   "source": [
    "avg_reaction_time = diseng['ReactionTime'].mean()\n",
    "print(avg_reaction_time)"
   ]
  },
  {
   "cell_type": "markdown",
   "metadata": {
    "colab_type": "text",
    "id": "3rdRbkLeSAak"
   },
   "source": [
    "### b. For the entire duration of the dataset differentiated by the location of disengagement"
   ]
  },
  {
   "cell_type": "code",
   "execution_count": 21,
   "metadata": {
    "colab": {},
    "colab_type": "code",
    "id": "5FXGDfbfSAak",
    "outputId": "b58ed33c-104d-48ff-96af-d6405a15f624"
   },
   "outputs": [
    {
     "name": "stdout",
     "output_type": "stream",
     "text": [
      "              ReactionTime\n",
      "Location                  \n",
      "highway            1.48000\n",
      "urban-street       0.92865\n"
     ]
    }
   ],
   "source": [
    "avg_reaction_time = diseng.groupby(diseng['Location']).mean()\n",
    "print(avg_reaction_time)"
   ]
  },
  {
   "cell_type": "markdown",
   "metadata": {
    "colab_type": "text",
    "id": "_0XALCzLSAap"
   },
   "source": [
    "## 4. It is known that the mean reaction time for humans in non-AV cars is 1.09 seconds [4]. Is the mean reaction time for humans in AV cars different from non-AV cars? Perform a hypothesis test at a 0.05 significance level."
   ]
  },
  {
   "cell_type": "code",
   "execution_count": 22,
   "metadata": {
    "colab": {
     "base_uri": "https://localhost:8080/",
     "height": 54
    },
    "colab_type": "code",
    "id": "GRB8BYuZSAas",
    "outputId": "ab571613-5eae-4f5d-8370-a84aef5e07cf"
   },
   "outputs": [
    {
     "name": "stdout",
     "output_type": "stream",
     "text": [
      "The t-statistic is -2.099 and the p-value is 0.036.\n",
      "The mean reaction time for humans in AV cars is different from non-AV cars.\n"
     ]
    }
   ],
   "source": [
    "# this is how you run a t-test\n",
    "reaction_time = list(diseng[diseng['ReactionTime'].notnull()]['ReactionTime'])\n",
    "one_sample = st.ttest_1samp(reaction_time, 1.09)\n",
    "print(\"The t-statistic is %.3f and the p-value is %.3f.\" % one_sample)\n",
    "\n",
    "if one_sample[1] < 0.05:\n",
    "    print(\"The mean reaction time for humans in AV cars is different from non-AV cars.\")\n",
    "else:\n",
    "    print(\"The mean reaction time for humans in AV cars is not different from non-AV cars.\")"
   ]
  },
  {
   "cell_type": "code",
   "execution_count": 23,
   "metadata": {},
   "outputs": [
    {
     "data": {
      "text/plain": [
       "Ttest_1sampResult(statistic=-2.0986037086235854, pvalue=0.03636206696694606)"
      ]
     },
     "execution_count": 23,
     "metadata": {},
     "output_type": "execute_result"
    }
   ],
   "source": [
    "#also works\n",
    "reaction_time = list(diseng['ReactionTime'].dropna())\n",
    "one_sample = st.ttest_1samp(reaction_time, 1.09)\n",
    "one_sample\n",
    "#print(\"The t-statistic is %.3f and the p-value is %.3f.\" % one_sample)\n",
    "#then compare the p-value to the significant level"
   ]
  },
  {
   "cell_type": "markdown",
   "metadata": {
    "colab_type": "text",
    "id": "sqBpv4waSAaw"
   },
   "source": [
    "## 5. Plot the probability distribution of disengagements/mile with monthly granularity. Does this distribution fit any known distributions (Gaussian, Weibull, Exponential)? What does the fit distribution signify?"
   ]
  },
  {
   "cell_type": "code",
   "execution_count": 24,
   "metadata": {
    "colab": {
     "base_uri": "https://localhost:8080/",
     "height": 398
    },
    "colab_type": "code",
    "id": "kes7NSKiY9DN",
    "outputId": "848489bb-338d-410d-a4a9-164f679d377c"
   },
   "outputs": [
    {
     "data": {
      "text/plain": [
       "Text(0.5, 1.0, 'disengagement per mile')"
      ]
     },
     "execution_count": 24,
     "metadata": {},
     "output_type": "execute_result"
    },
    {
     "data": {
      "image/png": "[encoded data removed]",
      "text/plain": [
       "<Figure size 432x288 with 1 Axes>"
      ]
     },
     "metadata": {
      "needs_background": "light"
     },
     "output_type": "display_data"
    }
   ],
   "source": [
    "trend['disengagement per mile'].plot(kind='hist',bins=40,density=True)\n",
    "plt.xlabel('disengagement', fontsize=12)\n",
    "plt.ylabel('Frequency')\n",
    "plt.title('disengagement per mile', fontsize=14)"
   ]
  },
  {
   "cell_type": "code",
   "execution_count": 25,
   "metadata": {
    "colab": {},
    "colab_type": "code",
    "id": "VywDMq34fQlx",
    "outputId": "079ca13c-3512-490e-c526-8c8c05fd0c08"
   },
   "outputs": [
    {
     "name": "stdout",
     "output_type": "stream",
     "text": [
      "p value for norm = 0.4715442969748681\n",
      "p value for expon = 0.9806696005068393\n",
      "p value for exponweib = 0.0027869462809533047\n",
      "p value for gamma = 0.2176742502678512\n",
      "Best fitting distribution: expon\n",
      "Best p value: 0.9806696005068393\n",
      "Parameters for the best fit: (0.0003605973188528763, 0.0021407886857360853)\n"
     ]
    },
    {
     "name": "stderr",
     "output_type": "stream",
     "text": [
      "C:\\Users\\yutin\\Anaconda3\\lib\\site-packages\\scipy\\stats\\_continuous_distns.py:1469: RuntimeWarning: invalid value encountered in add\n",
      "  negxc + sc.xlogy(c - 1.0, x))\n"
     ]
    }
   ],
   "source": [
    "diseng_mile = trend['disengagement per mile']\n",
    "best_dist, best_p, params=get_best_distribution(diseng_mile,dist_names)"
   ]
  },
  {
   "cell_type": "code",
   "execution_count": 26,
   "metadata": {},
   "outputs": [
    {
     "data": {
      "text/plain": [
       "array([0.01045876, 0.00394305, 0.00321297, 0.0038245 , 0.00263852,\n",
       "       0.00085356, 0.00175644, 0.00225514, 0.00089434, 0.00302043,\n",
       "       0.00198247, 0.00062794, 0.00118369, 0.0003606 , 0.00050836])"
      ]
     },
     "execution_count": 26,
     "metadata": {},
     "output_type": "execute_result"
    }
   ],
   "source": [
    "trend['disengagement per mile'].values"
   ]
  },
  {
   "cell_type": "code",
   "execution_count": 27,
   "metadata": {
    "colab": {},
    "colab_type": "code",
    "id": "MGcEnb7mfQl2",
    "outputId": "a1440dac-89a3-4e0a-9b4e-c6ff697d3a8e"
   },
   "outputs": [
    {
     "data": {
      "text/plain": [
       "Text(0, 0.5, 'Frequency')"
      ]
     },
     "execution_count": 27,
     "metadata": {},
     "output_type": "execute_result"
    },
    {
     "data": {
      "image/png": "[encoded data removed]",
      "text/plain": [
       "<Figure size 432x288 with 1 Axes>"
      ]
     },
     "metadata": {
      "needs_background": "light"
     },
     "output_type": "display_data"
    }
   ],
   "source": [
    "#with a stats.expon fit!!!\n",
    "sns.distplot(diseng_mile,bins=40,fit=stats.expon,kde=False)\n",
    "plt.title('Exponential Distribution Fit')\n",
    "plt.xlabel('diseng per mile)')\n",
    "plt.ylabel('Frequency')"
   ]
  },
  {
   "cell_type": "markdown",
   "metadata": {
    "colab_type": "text",
    "id": "q4PRn73Kf4kq"
   },
   "source": [
    "The fit distribution signifies that the disengagement per mile is exponentially distributed, i.e., the probability of disengagement within one mile decreases as the mile increases."
   ]
  },
  {
   "cell_type": "markdown",
   "metadata": {
    "colab_type": "text",
    "id": "Gd5QVogjgKMb"
   },
   "source": [
    "# Task 2 – Probabilistic Analysis of AV Disengagement"
   ]
  },
  {
   "cell_type": "markdown",
   "metadata": {
    "colab_type": "text",
    "id": "5eAOpIzagYMJ"
   },
   "source": [
    "## Question 1"
   ]
  },
  {
   "cell_type": "markdown",
   "metadata": {
    "colab_type": "text",
    "id": "x9e-BcMkzfi4"
   },
   "source": [
    "### 1a. "
   ]
  },
  {
   "cell_type": "markdown",
   "metadata": {
    "colab_type": "text",
    "id": "8O93aThCyBkc"
   },
   "source": [
    "The assumption on maximum number of disengagements in a mile allows us to treat the occurrence of a disengagement in a mile as a random variable with an **bernoulli distribution**"
   ]
  },
  {
   "cell_type": "markdown",
   "metadata": {
    "colab_type": "text",
    "id": "skCjRvFG5gt_"
   },
   "source": [
    "###1b. Based on the above assumptions, calculate the probability of disengagement per mile on a cloudy day."
   ]
  },
  {
   "cell_type": "markdown",
   "metadata": {
    "colab_type": "text",
    "id": "dVmYjIuGCmC4"
   },
   "source": [
    "We can calculate the probability of disengagement per mile from data by dividing total no of diseng to total no of miles.\n",
    "\n",
    "$$P(DPM){\\rm{  =  }}{{{\\rm{Total Number of Diseng}}} \\over {{\\rm{Total Number of miles}}}}$$"
   ]
  },
  {
   "cell_type": "code",
   "execution_count": 28,
   "metadata": {
    "colab": {
     "base_uri": "https://localhost:8080/",
     "height": 34
    },
    "colab_type": "code",
    "id": "fo9lz8YcwZJq",
    "outputId": "2ca40dcd-d8d9-4adc-d4fa-4a284591d81b"
   },
   "outputs": [
    {
     "name": "stdout",
     "output_type": "stream",
     "text": [
      "P(DPM): 0.002026803687040926\n"
     ]
    }
   ],
   "source": [
    "P_dpm = t_miles['total number of disengagements'].sum()/t_miles['miles driven in autonomous mode'].sum()\n",
    "print(\"P(DPM): {0}\".format(P_dpm))"
   ]
  },
  {
   "cell_type": "markdown",
   "metadata": {
    "colab_type": "text",
    "id": "e-wusJy7BqAJ"
   },
   "source": [
    "The prob of diseng per mile on a cloudy day can be calculated using Bayes Rule.\n",
    "\n",
    "$$P(DPM|Cloudy) = {{P(Cloudy|DPM)P(DPM)} \\over {P(Cloudy)}}$$\n",
    "\n",
    "Here P(Cloudy|DPM)can be calculated by counting conditional observations from data.\n"
   ]
  },
  {
   "cell_type": "code",
   "execution_count": 29,
   "metadata": {
    "colab": {
     "base_uri": "https://localhost:8080/",
     "height": 34
    },
    "colab_type": "code",
    "id": "IkWU4CARMfxg",
    "outputId": "64d59861-e95b-4e02-975d-36f74c827f3b"
   },
   "outputs": [
    {
     "name": "stdout",
     "output_type": "stream",
     "text": [
      "P(DPM|cloudy): 0.00590255677552725\n"
     ]
    }
   ],
   "source": [
    "# probability of clear weather is given as 0.72\n",
    "P_cloudy = 1-0.72\n",
    "# separate the dataset with cloudy weather\n",
    "cloudy = diseng['Weather']=='cloudy'#use bool to count \n",
    "# calculate probability\n",
    "P_dpm_cloudy = (sum(cloudy) / len(diseng)) * P_dpm / P_cloudy\n",
    "print(\"P(DPM|cloudy): {0}\".format(P_dpm_cloudy))"
   ]
  },
  {
   "cell_type": "markdown",
   "metadata": {
    "colab_type": "text",
    "id": "iTGEMRdFLm8P"
   },
   "source": [
    "### 1c.  Based on the above assumptions, calculate the probability of disengagement per mile on a clear day."
   ]
  },
  {
   "cell_type": "markdown",
   "metadata": {
    "colab_type": "text",
    "id": "Aicsq6LFLm8Q"
   },
   "source": [
    "Similarly we can calculate the probability of diseng on a clear day using Bayes Rule.\n",
    "\n",
    "$$P(DPM|Clear) = {{P(Clear|DPM)P(DPM)} \\over {P(Clear)}}$$\n"
   ]
  },
  {
   "cell_type": "code",
   "execution_count": 30,
   "metadata": {
    "colab": {
     "base_uri": "https://localhost:8080/",
     "height": 34
    },
    "colab_type": "code",
    "id": "D9-gbCvdPqM9",
    "outputId": "6210ef34-12a5-4131-cd7f-98a800feea65"
   },
   "outputs": [
    {
     "name": "stdout",
     "output_type": "stream",
     "text": [
      "P(DPM|clear): 0.0005195663748517999\n"
     ]
    }
   ],
   "source": [
    "# a day can either be cloudy or clear. so dataset with clear weather will be\n",
    "clear = ~cloudy\n",
    "# probability of clear weather is given as 0.72\n",
    "P_clear = 0.72\n",
    "# calculate probability of diseng per mile on a clear day using bayes rule.\n",
    "P_dpm_clear = (sum(clear) / len(diseng)) * P_dpm / P_clear\n",
    "print(\"P(DPM|clear): {0}\".format(P_dpm_clear))"
   ]
  },
  {
   "cell_type": "markdown",
   "metadata": {
    "colab_type": "text",
    "id": "hkLmhZHwQdRQ"
   },
   "source": [
    "**Note:**  \n",
    "The probability of disengagement on a clear day is much smaller than the probability of disengagement  on a cloudy day."
   ]
  },
  {
   "cell_type": "markdown",
   "metadata": {
    "colab_type": "text",
    "id": "LvT31Xoz5yBr"
   },
   "source": [
    "### 1d. calculate the probability of an automatic disengagement per mile on a cloudy day\n"
   ]
  },
  {
   "cell_type": "markdown",
   "metadata": {
    "colab_type": "text",
    "id": "LexfBtevufbq"
   },
   "source": [
    "$$P(Automatic,DPM|Cloudy) = \\frac{{P(Automatic,DPM,Cloudy)}}{{P(Cloudy)}} = \\frac{{P(Automatic,Cloudy|DPM)P(DPM)}}{{P(Cloudy)}}$$\n",
    "\n",
    "Here P(Automatic,Cloudy|DPM) can be calculated directly from data by counting conditional observations.\n"
   ]
  },
  {
   "cell_type": "code",
   "execution_count": 31,
   "metadata": {
    "colab": {
     "base_uri": "https://localhost:8080/",
     "height": 34
    },
    "colab_type": "code",
    "id": "72QZfBvm56xT",
    "outputId": "93168336-dd71-4e6b-9a66-618b46b30b10"
   },
   "outputs": [
    {
     "name": "stdout",
     "output_type": "stream",
     "text": [
      "P(Automatic,DPM|Cloudy): 0.0028063653172267287\n"
     ]
    }
   ],
   "source": [
    "# separate the dataset with automatic diseng\n",
    "automatic = diseng['TypeOfTrigger']=='automatic'\n",
    "# calculate prob\n",
    "P_dpm_cloudy_automatic = (sum(cloudy & automatic) / len(diseng)) *  P_dpm / P_cloudy\n",
    "print(\"P(Automatic,DPM|Cloudy): {0}\".format(P_dpm_cloudy_automatic))"
   ]
  },
  {
   "cell_type": "markdown",
   "metadata": {
    "colab_type": "text",
    "id": "_q9-aXU2A3_z"
   },
   "source": [
    "Similarly calculate the probability of an automatic disengagement per mile on a clear day."
   ]
  },
  {
   "cell_type": "markdown",
   "metadata": {
    "colab_type": "text",
    "id": "b3JxJ9BGLm8j"
   },
   "source": [
    "$$P(Automatic,DPM|Clear) = \\frac{{P(Automatic,DPM,Clear)}}{{P(Clear)}} = \\frac{{P(Automatic,Clear|DPM)P(DPM)}}{{P(Clear)}}$$"
   ]
  },
  {
   "cell_type": "code",
   "execution_count": 32,
   "metadata": {
    "colab": {
     "base_uri": "https://localhost:8080/",
     "height": 34
    },
    "colab_type": "code",
    "id": "tdJXvT-5AjBg",
    "outputId": "715d4181-b96e-43f1-84a1-9b0431c19155"
   },
   "outputs": [
    {
     "name": "stdout",
     "output_type": "stream",
     "text": [
      "P(Automatic,DPM|Clear): 0.00026390673008345393\n"
     ]
    }
   ],
   "source": [
    "P_dpm_clear_automatic = (sum(clear & automatic) / len(diseng)) * P_dpm / P_clear\n",
    "print(\"P(Automatic,DPM|Clear): {0}\".format(P_dpm_clear_automatic))"
   ]
  },
  {
   "cell_type": "markdown",
   "metadata": {
    "colab_type": "text",
    "id": "hPixzpBm52Ai"
   },
   "source": [
    "### 1e. \n",
    "How likely is it that in 10000 miles, there are 150 or more disengagements under\n",
    "cloudy conditions?"
   ]
  },
  {
   "cell_type": "markdown",
   "metadata": {
    "colab_type": "text",
    "id": "rR-oNv4FSD-g"
   },
   "source": [
    "**Normal Distribution Approximation**\n",
    "\n",
    "As the sample size (N = 10000) is much larger so using central limit theorem and law of large numbers, we can approximate the binomial distribution of disengagements in cloudy atmosphere as a normal distribution. The mean and variance for normal distribution can be calculated as follows. \n",
    "\n",
    "$$\\mu  = Np = 10000 \\times P(DPM |Cloudy)$$\n",
    "$${\\sigma ^2} = Np(1 - p) = 10000 \\times P(DPM |Cloudy)(1 - P(DPM |Cloudy))$$\n",
    "\n",
    "So, we would have $$Z_{n} = (X_{n} - \\mu)/\\sigma$$ as standard normal distribution. We need to calculate: $P(X_{n} \\geq 150)$ so we apply the approximation and calculate $P(X_{n}> 150 - 0.5)$ (As we change to continuous normal distribution from discrete binomial )"
   ]
  },
  {
   "cell_type": "code",
   "execution_count": 33,
   "metadata": {
    "colab": {
     "base_uri": "https://localhost:8080/",
     "height": 34
    },
    "colab_type": "code",
    "id": "TnU2M8HjPGCf",
    "outputId": "0da81338-5eef-487c-c93a-478e293b1dd5"
   },
   "outputs": [
    {
     "name": "stdout",
     "output_type": "stream",
     "text": [
      "Probability of 150 or more disengagements in 10000 miles under cloudy conditions: 0.0\n"
     ]
    }
   ],
   "source": [
    "mean = 10000*P_dpm_cloudy\n",
    "std = np.sqrt(10000*P_dpm_cloudy*(1-P_dpm_cloudy))\n",
    "prob = 1-stats.norm(mean, std).cdf(149.5)#get probability from stats.norm\n",
    "print('Probability of 150 or more disengagements in 10000 miles under cloudy conditions: {0}'.format(prob))"
   ]
  },
  {
   "cell_type": "markdown",
   "metadata": {
    "colab_type": "text",
    "id": "HmRPFhNQgZnJ"
   },
   "source": [
    "## Question 2"
   ]
  },
  {
   "cell_type": "markdown",
   "metadata": {
    "colab_type": "text",
    "id": "9IcpAG6Py1pO"
   },
   "source": [
    "At the 0.05 significance level, test the following hypothesis: The AV has more\n",
    "disengagements (automatic and manual) on cloudy days than clear days. Based on the result of the hypothesis test, what can you conclude about the impact of weather conditions on AV safety?"
   ]
  },
  {
   "cell_type": "markdown",
   "metadata": {
    "colab_type": "text",
    "id": "k9ZOZV9J0tuy"
   },
   "source": [
    "We can use z-test for comparing proportions and test the following hypothesis:"
   ]
  },
  {
   "cell_type": "markdown",
   "metadata": {
    "colab_type": "text",
    "id": "VYV5Urz-Lm81"
   },
   "source": [
    "\n",
    "$$\\eqalign{& {H_o}:{\\text{ Number of disengagement in cloudy}  \\leq \\text{ Number of disengagement in clear}}  \\cr \n",
    "  & {H_a}:{\\text{Number of disengagement in cloudy} >  \\text{Number of disengagement in clear}} \\cr} $$"
   ]
  },
  {
   "cell_type": "code",
   "execution_count": 34,
   "metadata": {
    "colab": {
     "base_uri": "https://localhost:8080/",
     "height": 34
    },
    "colab_type": "code",
    "id": "D2pgkaRgLm85",
    "outputId": "543f20d4-fecb-43e9-ba8e-16de26c60499"
   },
   "outputs": [
    {
     "name": "stdout",
     "output_type": "stream",
     "text": [
      "Disengs on Cloudy: 835 , Disengs on Clear: 189\n"
     ]
    }
   ],
   "source": [
    "Total_diseng= t_miles['total number of disengagements'].sum()\n",
    "Total_miles = t_miles['miles driven in autonomous mode'].sum()\n",
    "#Calculating total miles travelled in clear and cloudy weather using assumption one and three \n",
    "Cloudy_miles = P_cloudy*Total_miles\n",
    "Clear_miles = P_clear*Total_miles\n",
    "Counts = [cloudy.sum(),(~cloudy).sum()]\n",
    "print(\"Disengs on Cloudy: {0} , Disengs on Clear: {1}\".format(Counts[0],Counts[1]))"
   ]
  },
  {
   "cell_type": "code",
   "execution_count": 35,
   "metadata": {
    "colab": {
     "base_uri": "https://localhost:8080/",
     "height": 34
    },
    "colab_type": "code",
    "id": "kvrg307xLm9H",
    "outputId": "dfc4d832-85ac-483c-c587-e6438faea041"
   },
   "outputs": [
    {
     "name": "stdout",
     "output_type": "stream",
     "text": [
      "p-value: 0.0\n"
     ]
    }
   ],
   "source": [
    "#Z-test example\n",
    "from statsmodels.stats.proportion import proportions_ztest\n",
    "stat, pval = proportions_ztest(Counts, [Cloudy_miles, Clear_miles],alternative='larger')\n",
    "print('p-value: {0}'.format(pval))"
   ]
  },
  {
   "cell_type": "markdown",
   "metadata": {
    "colab_type": "text",
    "id": "TaDfkFIoLm9S"
   },
   "source": [
    "The p-value is zero and hence, null hypothesis is rejected. Therefore, AV has more disengagements on cloudy days."
   ]
  },
  {
   "cell_type": "markdown",
   "metadata": {
    "colab_type": "text",
    "id": "qW1TEhHjgaKT"
   },
   "source": [
    "## Question 3"
   ]
  },
  {
   "cell_type": "markdown",
   "metadata": {
    "colab_type": "text",
    "id": "PqJLe93-y-l7"
   },
   "source": [
    "### 3a. What’s the conditional probability that the reaction time is greater than 0.5s given that the weather was cloudy?"
   ]
  },
  {
   "cell_type": "markdown",
   "metadata": {
    "colab_type": "text",
    "id": "5RXlWlNQ1cqx"
   },
   "source": [
    "Reaction time is only relevant to automatic disengagements, so we considered only the observations with automatic disengagement. \n",
    "\n",
    "The required probability can be calculated directly from data by counting conditional observations.\n",
    "\n",
    "$P(RT>0.5s|Cloudy,Automatic)$ = **Condition: (Weather=Cloudy) & (Automatic = True) & (Reaction Time > 0.5s)**"
   ]
  },
  {
   "cell_type": "code",
   "execution_count": 36,
   "metadata": {
    "colab": {
     "base_uri": "https://localhost:8080/",
     "height": 34
    },
    "colab_type": "code",
    "id": "0p_1aVWi3NB-",
    "outputId": "bc835c8d-75bf-4ff2-8a9f-98d82ee0c61e"
   },
   "outputs": [
    {
     "name": "stdout",
     "output_type": "stream",
     "text": [
      "P(Reaction Time > 0.5s | Cloudy): 0.5390428211586902\n"
     ]
    }
   ],
   "source": [
    "P_reaction_cloudy = sum(cloudy & automatic & (diseng['ReactionTime']>0.5))/sum(cloudy & automatic)\n",
    "print(\"P(Reaction Time > 0.5s | Cloudy): {0}\".format(P_reaction_cloudy))"
   ]
  },
  {
   "cell_type": "markdown",
   "metadata": {
    "colab_type": "text",
    "id": "mkJTtB2_zKRD"
   },
   "source": [
    "### 3b. What’s the conditional probability that the reaction time is greater than 0.7s given that the weather was clear?"
   ]
  },
  {
   "cell_type": "markdown",
   "metadata": {
    "colab_type": "text",
    "id": "yRr15M-B3uLJ"
   },
   "source": [
    "The required probability can be calculated similarly from data by counting conditional observations.\n",
    "\n",
    "$P(RT>0.7s|Clear,Automatic)$ = **Condition: (Weather=Clear) & (Automatic = True) & (Reaction Time > 0.7s)**\n"
   ]
  },
  {
   "cell_type": "code",
   "execution_count": 37,
   "metadata": {
    "colab": {
     "base_uri": "https://localhost:8080/",
     "height": 34
    },
    "colab_type": "code",
    "id": "cwOVKMJ504So",
    "outputId": "5f2e2744-ca2d-4558-d1fb-8c09dd71dc79"
   },
   "outputs": [
    {
     "name": "stdout",
     "output_type": "stream",
     "text": [
      "P(Reaction Time > 0.7s | Clear): 0.3854166666666667\n"
     ]
    }
   ],
   "source": [
    "#example for conditional probability\n",
    "P_reaction_clear = sum(clear & automatic & (diseng['ReactionTime']>0.7))/sum(clear & automatic)\n",
    "print(\"P(Reaction Time > 0.7s | Clear): {0}\".format(P_reaction_clear))"
   ]
  },
  {
   "cell_type": "markdown",
   "metadata": {
    "colab_type": "text",
    "id": "Ct-O_iiVgaVZ"
   },
   "source": [
    "## Question 4"
   ]
  },
  {
   "cell_type": "markdown",
   "metadata": {
    "colab_type": "text",
    "id": "9h_BF_vQAPgx"
   },
   "source": [
    "A study found that an automatic AV disengagement will result in an accident if the human driver is slow in reacting. Following reactions are considered slow: (i) a reaction time greater than 0.5s under cloudy conditions and, (ii) a reaction time greater than 0.7s under clear conditions. Find the probability of an accident per mile involving an AV disengagement."
   ]
  },
  {
   "cell_type": "markdown",
   "metadata": {
    "colab_type": "text",
    "id": "n7vP1f4sLm9h"
   },
   "source": [
    "$$P(acc/mile) = P(RT>0.7s|Clear, DPM)P(DPM|Clear)P(Clear) + P(RT>0.5s|Cloudy, DPM)P(DPM|Cloudy)P(Cloudy))$$"
   ]
  },
  {
   "cell_type": "code",
   "execution_count": 38,
   "metadata": {
    "colab": {
     "base_uri": "https://localhost:8080/",
     "height": 34
    },
    "colab_type": "code",
    "id": "6Tnx-K3cgpcq",
    "outputId": "e2454008-5553-41df-dce6-905b9620d1c4"
   },
   "outputs": [
    {
     "name": "stdout",
     "output_type": "stream",
     "text": [
      "P(acc/mile): 0.0004968044193821021\n"
     ]
    }
   ],
   "source": [
    "#it is more convenient to store probability\n",
    "P_reaction = (P_reaction_clear * P_clear * P_dpm_clear_automatic) + (P_reaction_cloudy * (1 - P_clear) * P_dpm_cloudy_automatic)\n",
    "print(\"P(acc/mile): {0}\".format(P_reaction))"
   ]
  },
  {
   "cell_type": "markdown",
   "metadata": {
    "colab_type": "text",
    "id": "izecVEvsgqBq"
   },
   "source": [
    "## Question 5"
   ]
  },
  {
   "cell_type": "markdown",
   "metadata": {
    "colab_type": "text",
    "id": "x20nsd4EArws"
   },
   "source": [
    "The probability of a human driver causing a car accident is 2x10-6 . How do AVs compare to human drivers?"
   ]
  },
  {
   "cell_type": "code",
   "execution_count": 39,
   "metadata": {
    "colab": {
     "base_uri": "https://localhost:8080/",
     "height": 68
    },
    "colab_type": "code",
    "id": "ricX4IAngqua",
    "outputId": "13237f56-8c7a-40a9-948e-d96ba051f85e"
   },
   "outputs": [
    {
     "name": "stdout",
     "output_type": "stream",
     "text": [
      "P(Car Accident | Human Driver): 2e-06\n",
      "P(Car Accident | AV): 0.0004968044193821021\n",
      "The probability of a human driver causing a car accident is smaller than AVs.\n"
     ]
    }
   ],
   "source": [
    "P_human = 2e-6\n",
    "print(\"P(Car Accident | Human Driver): {0}\".format(P_human))\n",
    "print(\"P(Car Accident | AV): {0}\".format(P_reaction))\n",
    "\n",
    "#syntax for if, elif, else\n",
    "if P_reaction > P_human:\n",
    "    print(\"The probability of a human driver causing a car accident is smaller than AVs.\")\n",
    "elif P_reaction == P_human:\n",
    "    print(\"The probability of a human driver causing a car accident is same as AVs.\")\n",
    "else:\n",
    "    print(\"The probability of a human driver causing a car accident is larger than AVs.\")"
   ]
  },
  {
   "cell_type": "code",
   "execution_count": 40,
   "metadata": {
    "colab": {
     "base_uri": "https://localhost:8080/",
     "height": 34
    },
    "colab_type": "code",
    "id": "gBznC_RdA4jW",
    "outputId": "98bae498-8c8a-4e9d-b3bc-2f2c8fe98bde"
   },
   "outputs": [
    {
     "name": "stdout",
     "output_type": "stream",
     "text": [
      "Ratio of P(acc|AV) to P(acc/Human): 248.40220969105104\n"
     ]
    }
   ],
   "source": [
    "print(\"Ratio of P(acc|AV) to P(acc/Human): {0}\".format(P_reaction/P_human))"
   ]
  },
  {
   "cell_type": "markdown",
   "metadata": {
    "colab_type": "text",
    "id": "1GgwKPZ9Bm7O"
   },
   "source": [
    "**Conclusion: As the ratio is much larger, we can conclude that currently AVs are not safe for driving. **"
   ]
  },
  {
   "cell_type": "markdown",
   "metadata": {
    "colab_type": "text",
    "id": "MrjIDnnSEBRc"
   },
   "source": [
    "# Task 3"
   ]
  },
  {
   "cell_type": "markdown",
   "metadata": {
    "colab_type": "text",
    "id": "HCW3FdSH7SAB"
   },
   "source": [
    "## Question 1\n",
    "\n",
    "<b> INTRODUCING CLASS LABELS COLUMN</b>"
   ]
  },
  {
   "cell_type": "code",
   "execution_count": 41,
   "metadata": {
    "colab": {
     "base_uri": "https://localhost:8080/",
     "height": 204
    },
    "colab_type": "code",
    "executionInfo": {
     "elapsed": 606,
     "status": "ok",
     "timestamp": 1550540385538,
     "user": {
      "displayName": "Qasim Nazir",
      "photoUrl": "https://lh3.googleusercontent.com/-l-ZaWBCgmIs/AAAAAAAAAAI/AAAAAAAAYSo/-zOTCilviDI/s64/photo.jpg",
      "userId": "05547482919120757611"
     },
     "user_tz": 360
    },
    "id": "guiQ18GkHrT6",
    "outputId": "c0697ce4-5ee0-4b59-c920-737474050a16"
   },
   "outputs": [
    {
     "data": {
      "text/html": [
       "<div>\n",
       "<style scoped>\n",
       "    .dataframe tbody tr th:only-of-type {\n",
       "        vertical-align: middle;\n",
       "    }\n",
       "\n",
       "    .dataframe tbody tr th {\n",
       "        vertical-align: top;\n",
       "    }\n",
       "\n",
       "    .dataframe thead th {\n",
       "        text-align: right;\n",
       "    }\n",
       "</style>\n",
       "<table border=\"1\" class=\"dataframe\">\n",
       "  <thead>\n",
       "    <tr style=\"text-align: right;\">\n",
       "      <th></th>\n",
       "      <th>Month</th>\n",
       "      <th>Car</th>\n",
       "      <th>Location</th>\n",
       "      <th>Weather</th>\n",
       "      <th>TypeOfTrigger</th>\n",
       "      <th>ReactionTime</th>\n",
       "      <th>Cause</th>\n",
       "      <th>Class</th>\n",
       "    </tr>\n",
       "  </thead>\n",
       "  <tbody>\n",
       "    <tr>\n",
       "      <th>0</th>\n",
       "      <td>2014-09-01</td>\n",
       "      <td>WDD2221851A001072</td>\n",
       "      <td>urban-street</td>\n",
       "      <td>cloudy</td>\n",
       "      <td>automatic</td>\n",
       "      <td>0.58</td>\n",
       "      <td>Incorrect Traffic Light Detection</td>\n",
       "      <td>Perception System</td>\n",
       "    </tr>\n",
       "    <tr>\n",
       "      <th>1</th>\n",
       "      <td>2014-09-01</td>\n",
       "      <td>WDD2221851A001072</td>\n",
       "      <td>urban-street</td>\n",
       "      <td>cloudy</td>\n",
       "      <td>automatic</td>\n",
       "      <td>0.66</td>\n",
       "      <td>Adverse road surface conditions</td>\n",
       "      <td>Perception System</td>\n",
       "    </tr>\n",
       "    <tr>\n",
       "      <th>2</th>\n",
       "      <td>2014-09-01</td>\n",
       "      <td>WDD2221851A001072</td>\n",
       "      <td>urban-street</td>\n",
       "      <td>cloudy</td>\n",
       "      <td>automatic</td>\n",
       "      <td>1.93</td>\n",
       "      <td>Position Estimation Failure</td>\n",
       "      <td>Perception System</td>\n",
       "    </tr>\n",
       "    <tr>\n",
       "      <th>3</th>\n",
       "      <td>2014-09-01</td>\n",
       "      <td>WDD2221851A001072</td>\n",
       "      <td>urban-street</td>\n",
       "      <td>cloudy</td>\n",
       "      <td>automatic</td>\n",
       "      <td>0.65</td>\n",
       "      <td>Emergency Vehicle</td>\n",
       "      <td>Perception System</td>\n",
       "    </tr>\n",
       "    <tr>\n",
       "      <th>4</th>\n",
       "      <td>2014-09-01</td>\n",
       "      <td>WDD2221851A001072</td>\n",
       "      <td>urban-street</td>\n",
       "      <td>cloudy</td>\n",
       "      <td>automatic</td>\n",
       "      <td>0.64</td>\n",
       "      <td>Adverse road surface conditions</td>\n",
       "      <td>Perception System</td>\n",
       "    </tr>\n",
       "  </tbody>\n",
       "</table>\n",
       "</div>"
      ],
      "text/plain": [
       "       Month                Car      Location Weather TypeOfTrigger  \\\n",
       "0 2014-09-01  WDD2221851A001072  urban-street  cloudy     automatic   \n",
       "1 2014-09-01  WDD2221851A001072  urban-street  cloudy     automatic   \n",
       "2 2014-09-01  WDD2221851A001072  urban-street  cloudy     automatic   \n",
       "3 2014-09-01  WDD2221851A001072  urban-street  cloudy     automatic   \n",
       "4 2014-09-01  WDD2221851A001072  urban-street  cloudy     automatic   \n",
       "\n",
       "   ReactionTime                              Cause              Class  \n",
       "0          0.58  Incorrect Traffic Light Detection  Perception System  \n",
       "1          0.66    Adverse road surface conditions  Perception System  \n",
       "2          1.93        Position Estimation Failure  Perception System  \n",
       "3          0.65                  Emergency Vehicle  Perception System  \n",
       "4          0.64    Adverse road surface conditions  Perception System  "
      ]
     },
     "execution_count": 41,
     "metadata": {},
     "output_type": "execute_result"
    }
   ],
   "source": [
    "# replace the cause values with corresponding class label\n",
    "#create categorical data\n",
    "diseng['Class'] = diseng['Cause']\n",
    "diseng['Class'].replace(['Incorrect behavior prediction of others','Recklessly behaving agent','Unwanted Driver Discomfort'],'Controller',inplace=True)\n",
    "diseng['Class'].replace(['Adverse road surface conditions','Emergency Vehicle','Position Estimation Failure','Incorrect Traffic Light Detection'],'Perception System',inplace=True)\n",
    "diseng['Class'].replace(['System Tuning and Calibration','Hardware Fault','Software Froze'],'Computer System',inplace=True)\n",
    "diseng.head()"
   ]
  },
  {
   "cell_type": "code",
   "execution_count": 49,
   "metadata": {
    "colab": {},
    "colab_type": "code",
    "id": "gaesCmCV7SAD"
   },
   "outputs": [],
   "source": [
    "#real smart!!!!!\n",
    "def get_values(data):\n",
    "    colname = data.columns\n",
    "    c_label = data[colname[-1]].unique()\n",
    "    f_name  = colname[:-1]#all items except the last one(except class)\n",
    "    # create a dict of categorical values for each feature\n",
    "    f_values = {}\n",
    "    for f in f_name:\n",
    "        f_values[f] = data[f].unique()\n",
    "        \n",
    "    return c_label,f_name,f_values\n"
   ]
  },
  {
   "cell_type": "markdown",
   "metadata": {
    "colab_type": "text",
    "id": "vq1-26BkGpoF"
   },
   "source": [
    "Select only the required columns. Get class labels, feature names and their unique values from selected data. Then convert data to a list of values to be used for trianing and prediction."
   ]
  },
  {
   "cell_type": "code",
   "execution_count": 52,
   "metadata": {
    "colab": {},
    "colab_type": "code",
    "id": "VyaakDaKXNM5"
   },
   "outputs": [
    {
     "data": {
      "text/plain": [
       "Index(['Location', 'Weather', 'TypeOfTrigger'], dtype='object')"
      ]
     },
     "execution_count": 52,
     "metadata": {},
     "output_type": "execute_result"
    }
   ],
   "source": [
    "# get label names, feature names and their corresponding values\n",
    "\n",
    "c_label,f_name,f_values = get_values(diseng[['Location','Weather','TypeOfTrigger','Class']])\n",
    "\n",
    "data = diseng[['Location','Weather','TypeOfTrigger','Class']].values\n",
    "\n",
    "f_name"
   ]
  },
  {
   "cell_type": "markdown",
   "metadata": {
    "colab_type": "text",
    "id": "98b8PLMk7SAy"
   },
   "source": [
    "## Question 2\n",
    "<b> Randomly Split the Data into train set (80%) and test set (20%) </b>"
   ]
  },
  {
   "cell_type": "code",
   "execution_count": 0,
   "metadata": {
    "colab": {},
    "colab_type": "code",
    "id": "omAPpBJO7R_7"
   },
   "outputs": [],
   "source": [
    "# function that splits dataset into train and test data\n",
    "def split(data,train_ratio):\n",
    "    k = int(len(data) * train_ratio)\n",
    "    # randomly shuffle the dataset\n",
    "    np.random.shuffle(data)\n",
    "    train, test = data[:k,:], data[k:,:]\n",
    "    return train, test"
   ]
  },
  {
   "cell_type": "code",
   "execution_count": 0,
   "metadata": {
    "colab": {
     "base_uri": "https://localhost:8080/",
     "height": 51
    },
    "colab_type": "code",
    "executionInfo": {
     "elapsed": 284,
     "status": "ok",
     "timestamp": 1550540399498,
     "user": {
      "displayName": "Qasim Nazir",
      "photoUrl": "https://lh3.googleusercontent.com/-l-ZaWBCgmIs/AAAAAAAAAAI/AAAAAAAAYSo/-zOTCilviDI/s64/photo.jpg",
      "userId": "05547482919120757611"
     },
     "user_tz": 360
    },
    "id": "EdcZ4l1u7SA0",
    "outputId": "2f5afbcf-e239-4598-ddc3-6020073cc82c"
   },
   "outputs": [
    {
     "name": "stdout",
     "output_type": "stream",
     "text": [
      "Size of Train Data: 819\n",
      "Size of Test Data: 205\n"
     ]
    }
   ],
   "source": [
    "train, test = split(data,0.8)\n",
    "print(\"Size of Train Data: {0}\".format(len(train)))\n",
    "print(\"Size of Test Data: {0}\".format(len(test)))"
   ]
  },
  {
   "cell_type": "markdown",
   "metadata": {
    "colab_type": "text",
    "id": "Yq4-RRNb7SA_"
   },
   "source": [
    "## Question 3"
   ]
  },
  {
   "cell_type": "markdown",
   "metadata": {
    "colab_type": "text",
    "id": "F3_fHjEm7SBB"
   },
   "source": [
    "<b> TRAINING </b>\n",
    "\n",
    "Train a Naive Bayes model on the training data. The outputs are values of individual class probabilities and the conditional probabilities of categorical values of features"
   ]
  },
  {
   "cell_type": "markdown",
   "metadata": {
    "colab_type": "text",
    "id": "Xcd8PBuLD8CK"
   },
   "source": [
    "$$p({C_k}) = \\frac{{No.{\\text{ }}of{\\text{ }}diseng{\\text{ }}with{\\text{ }}{C_k}}}{{Total{\\text{ }}No.{\\text{ }}of{\\text{ }}diseng}}$$"
   ]
  },
  {
   "cell_type": "markdown",
   "metadata": {
    "colab_type": "text",
    "id": "IUNwXNb7Dv5e"
   },
   "source": [
    "$$p({x_i}|{C_k}) = \\frac{{No.{\\text{ }}of{\\text{ }}{x_i}{\\text{ }}in{\\text{ }}{C_k}}}{{Total{\\text{ }}No.{\\text{ }}of{\\text{ }}diseng{\\text{ }}with{\\text{ }}{C_k}}}$$"
   ]
  },
  {
   "cell_type": "code",
   "execution_count": 0,
   "metadata": {
    "colab": {},
    "colab_type": "code",
    "id": "zzaaB-q_YqI8"
   },
   "outputs": [],
   "source": [
    "# function accepts the data values in the form of a list.\n",
    "\n",
    "def train_NB(data,c_label,f_name,f_values):\n",
    "    \n",
    "    c_prob = {}\n",
    "    f_prob = {}\n",
    "    N = len(data)\n",
    "    for label in c_label:\n",
    "        # separate data values for class label\n",
    "        separated   = data[data[:,-1]==label]\n",
    "        Ns = len(separated)\n",
    "        # calculate class probability\n",
    "        c_prob[label] = Ns/N\n",
    "        temp2 = {}\n",
    "        for i, f in enumerate(f_name): # repeate the procedure for each feature\n",
    "            # create a temporary dictionary\n",
    "            temp1 = {}\n",
    "            for val in f_values[f]:\n",
    "                # calculate conditional probability\n",
    "                #temp1[val] = sum(separated[f]==val)/Ns\n",
    "                temp1[val] = round(sum(separated[:,i]==val)/Ns,4)  \n",
    "            temp2[f]=temp1\n",
    "        f_prob[label]=temp2\n",
    "    # return a dict containing individual class probabilities\n",
    "    # return a dict containing conditional probabilities of each categorical value\n",
    "    return c_prob,f_prob"
   ]
  },
  {
   "cell_type": "markdown",
   "metadata": {
    "colab_type": "text",
    "id": "NwFRmUiuKsJi"
   },
   "source": [
    "**Class Probabilities P(C_k)**\n"
   ]
  },
  {
   "cell_type": "code",
   "execution_count": 0,
   "metadata": {
    "colab": {
     "base_uri": "https://localhost:8080/",
     "height": 68
    },
    "colab_type": "code",
    "executionInfo": {
     "elapsed": 918,
     "status": "ok",
     "timestamp": 1550540407353,
     "user": {
      "displayName": "Qasim Nazir",
      "photoUrl": "https://lh3.googleusercontent.com/-l-ZaWBCgmIs/AAAAAAAAAAI/AAAAAAAAYSo/-zOTCilviDI/s64/photo.jpg",
      "userId": "05547482919120757611"
     },
     "user_tz": 360
    },
    "id": "psZmDUC77SBG",
    "outputId": "0a9fe586-106c-40ec-e0de-8b7bebbfd88e"
   },
   "outputs": [
    {
     "data": {
      "text/plain": [
       "{'Computer System': 0.2979242979242979,\n",
       " 'Controller': 0.3443223443223443,\n",
       " 'Perception System': 0.35775335775335776}"
      ]
     },
     "execution_count": 13,
     "metadata": {
      "tags": []
     },
     "output_type": "execute_result"
    }
   ],
   "source": [
    "c_prob,f_prob = train_NB(train,c_label,f_name,f_values)\n",
    "c_prob"
   ]
  },
  {
   "cell_type": "markdown",
   "metadata": {
    "colab_type": "text",
    "id": "faEfT1d8LCCB"
   },
   "source": [
    "**Categorical Feature Probabilities P(x_i|C_k)**"
   ]
  },
  {
   "cell_type": "code",
   "execution_count": 0,
   "metadata": {
    "colab": {
     "base_uri": "https://localhost:8080/",
     "height": 142
    },
    "colab_type": "code",
    "executionInfo": {
     "elapsed": 347,
     "status": "ok",
     "timestamp": 1550540410543,
     "user": {
      "displayName": "Qasim Nazir",
      "photoUrl": "https://lh3.googleusercontent.com/-l-ZaWBCgmIs/AAAAAAAAAAI/AAAAAAAAYSo/-zOTCilviDI/s64/photo.jpg",
      "userId": "05547482919120757611"
     },
     "user_tz": 360
    },
    "id": "01OORG077SBN",
    "outputId": "ade92df0-9297-455d-cb98-f06f635b4672"
   },
   "outputs": [
    {
     "data": {
      "text/html": [
       "<div>\n",
       "<style scoped>\n",
       "    .dataframe tbody tr th:only-of-type {\n",
       "        vertical-align: middle;\n",
       "    }\n",
       "\n",
       "    .dataframe tbody tr th {\n",
       "        vertical-align: top;\n",
       "    }\n",
       "\n",
       "    .dataframe thead th {\n",
       "        text-align: right;\n",
       "    }\n",
       "</style>\n",
       "<table border=\"1\" class=\"dataframe\">\n",
       "  <thead>\n",
       "    <tr style=\"text-align: right;\">\n",
       "      <th></th>\n",
       "      <th>Computer System</th>\n",
       "      <th>Controller</th>\n",
       "      <th>Perception System</th>\n",
       "    </tr>\n",
       "  </thead>\n",
       "  <tbody>\n",
       "    <tr>\n",
       "      <th>Location</th>\n",
       "      <td>{'urban-street': 0.9508, 'highway': 0.0492}</td>\n",
       "      <td>{'urban-street': 1.0, 'highway': 0.0}</td>\n",
       "      <td>{'urban-street': 1.0, 'highway': 0.0}</td>\n",
       "    </tr>\n",
       "    <tr>\n",
       "      <th>TypeOfTrigger</th>\n",
       "      <td>{'automatic': 0.4918, 'manual': 0.5082}</td>\n",
       "      <td>{'automatic': 0.1277, 'manual': 0.8723}</td>\n",
       "      <td>{'automatic': 0.8396, 'manual': 0.1604}</td>\n",
       "    </tr>\n",
       "    <tr>\n",
       "      <th>Weather</th>\n",
       "      <td>{'cloudy': 0.3811, 'clear': 0.6189}</td>\n",
       "      <td>{'cloudy': 1.0, 'clear': 0.0}</td>\n",
       "      <td>{'cloudy': 1.0, 'clear': 0.0}</td>\n",
       "    </tr>\n",
       "  </tbody>\n",
       "</table>\n",
       "</div>"
      ],
      "text/plain": [
       "                                           Computer System  \\\n",
       "Location       {'urban-street': 0.9508, 'highway': 0.0492}   \n",
       "TypeOfTrigger      {'automatic': 0.4918, 'manual': 0.5082}   \n",
       "Weather                {'cloudy': 0.3811, 'clear': 0.6189}   \n",
       "\n",
       "                                            Controller  \\\n",
       "Location         {'urban-street': 1.0, 'highway': 0.0}   \n",
       "TypeOfTrigger  {'automatic': 0.1277, 'manual': 0.8723}   \n",
       "Weather                  {'cloudy': 1.0, 'clear': 0.0}   \n",
       "\n",
       "                                     Perception System  \n",
       "Location         {'urban-street': 1.0, 'highway': 0.0}  \n",
       "TypeOfTrigger  {'automatic': 0.8396, 'manual': 0.1604}  \n",
       "Weather                  {'cloudy': 1.0, 'clear': 0.0}  "
      ]
     },
     "execution_count": 14,
     "metadata": {
      "tags": []
     },
     "output_type": "execute_result"
    }
   ],
   "source": [
    "pd.DataFrame(f_prob)"
   ]
  },
  {
   "cell_type": "markdown",
   "metadata": {
    "colab_type": "text",
    "id": "DGixI6K_7SBU"
   },
   "source": [
    "## Question 4"
   ]
  },
  {
   "cell_type": "markdown",
   "metadata": {
    "colab_type": "text",
    "id": "k08eKZjY7SBa"
   },
   "source": [
    "<b> TESTING </b>\n",
    "\n",
    "Now test the trained model on test data. Predict the class with maximum conditional probability"
   ]
  },
  {
   "cell_type": "markdown",
   "metadata": {
    "colab_type": "text",
    "id": "KGnsnpxHDLDr"
   },
   "source": [
    "Assumption: $$p({x_i}|{x_{i + 1}},{x_{i + 2}},..,{x_n},{C_k}) = p({x_i}|{C_k})$$"
   ]
  },
  {
   "cell_type": "markdown",
   "metadata": {
    "colab_type": "text",
    "id": "lLjNdFj7AiKP"
   },
   "source": [
    "$${C^*} = \\mathop {\\arg \\max }\\limits_{k \\in \\{ 1,...,K\\} } p({C_k})\\prod\\limits_{i = 1}^n {p({x_i}|{C_k})} $$"
   ]
  },
  {
   "cell_type": "code",
   "execution_count": 0,
   "metadata": {
    "colab": {},
    "colab_type": "code",
    "id": "TbdRPF907SAR"
   },
   "outputs": [],
   "source": [
    "def NB_pred(data,c_prob,f_prob,c_label,f_name,f_values):\n",
    "    pred = []\n",
    "    for row in data:  \n",
    "        score = {}\n",
    "        # calculate conditional probability for each class\n",
    "        for c in c_label:\n",
    "            CP = 1\n",
    "            # calculate probability using Bayes Rule assuming that features are independent\n",
    "            for i,f in enumerate(f_name):\n",
    "                CP = CP*f_prob[c][f][row[i]]\n",
    "            score[c]= CP*c_prob[c]\n",
    "        # use MAP rule to get class label\n",
    "        # select the class with maximum probability\n",
    "        pred.append(max(score, key=score.get))\n",
    "    return pred"
   ]
  },
  {
   "cell_type": "markdown",
   "metadata": {
    "colab_type": "text",
    "id": "EtVVtBHh7SAa"
   },
   "source": [
    "<b> FUNCTION FOR CALCULATING ACCURACY </b>"
   ]
  },
  {
   "cell_type": "code",
   "execution_count": 0,
   "metadata": {
    "colab": {},
    "colab_type": "code",
    "id": "sgyLilBv7SAe"
   },
   "outputs": [],
   "source": [
    "# function that calculates accuracy of a model given the predictions\n",
    "def get_accuracy(true,pred):\n",
    "    accuracy = round(sum(true==pred)/len(true),4)\n",
    "    return accuracy"
   ]
  },
  {
   "cell_type": "code",
   "execution_count": 0,
   "metadata": {
    "colab": {
     "base_uri": "https://localhost:8080/",
     "height": 34
    },
    "colab_type": "code",
    "executionInfo": {
     "elapsed": 301,
     "status": "ok",
     "timestamp": 1550540418979,
     "user": {
      "displayName": "Qasim Nazir",
      "photoUrl": "https://lh3.googleusercontent.com/-l-ZaWBCgmIs/AAAAAAAAAAI/AAAAAAAAYSo/-zOTCilviDI/s64/photo.jpg",
      "userId": "05547482919120757611"
     },
     "user_tz": 360
    },
    "id": "AQs2c8rc7SBd",
    "outputId": "f87012c7-6234-4227-fe1c-2fc0de3e0212"
   },
   "outputs": [
    {
     "name": "stdout",
     "output_type": "stream",
     "text": [
      "Accuracy: 0.7854\n"
     ]
    }
   ],
   "source": [
    "pred = NB_pred(test,c_prob,f_prob,c_label,f_name,f_values)\n",
    "accuracy = get_accuracy(test[:,-1], pred)\n",
    "print(\"Accuracy: {0}\".format(accuracy))"
   ]
  },
  {
   "cell_type": "markdown",
   "metadata": {
    "colab_type": "text",
    "id": "gY-xVYnW7SBq"
   },
   "source": [
    "## Question 5\n",
    "<b> CROSS-VALIDATION </b>"
   ]
  },
  {
   "cell_type": "code",
   "execution_count": 0,
   "metadata": {
    "colab": {
     "base_uri": "https://localhost:8080/",
     "height": 51
    },
    "colab_type": "code",
    "executionInfo": {
     "elapsed": 436,
     "status": "ok",
     "timestamp": 1550540627282,
     "user": {
      "displayName": "Qasim Nazir",
      "photoUrl": "https://lh3.googleusercontent.com/-l-ZaWBCgmIs/AAAAAAAAAAI/AAAAAAAAYSo/-zOTCilviDI/s64/photo.jpg",
      "userId": "05547482919120757611"
     },
     "user_tz": 360
    },
    "id": "at4T4hlT7SBu",
    "outputId": "11482bf8-9700-4f23-a952-773ef223cb8e"
   },
   "outputs": [
    {
     "name": "stdout",
     "output_type": "stream",
     "text": [
      "Accuracy List: [0.8, 0.8049, 0.8293, 0.7951, 0.7902, 0.7805, 0.7805, 0.8098, 0.7463, 0.8]\n",
      "Average Accuracy: 0.7937\n"
     ]
    }
   ],
   "source": [
    "accuracy = []\n",
    "for i in range(10):\n",
    "    train, test = split(data, train_ratio=0.8)\n",
    "    c_prob,f_prob = train_NB(train,c_label,f_name,f_values)\n",
    "    pred = NB_pred(test,c_prob,f_prob,c_label,f_name,f_values)\n",
    "    acc = get_accuracy(test[:,-1], pred)\n",
    "    accuracy.append(acc)\n",
    "avg_acc = round(np.mean(accuracy),4)\n",
    "print(\"Accuracy List: {0}\".format(accuracy))\n",
    "print(\"Average Accuracy: {0}\".format(avg_acc))"
   ]
  },
  {
   "cell_type": "markdown",
   "metadata": {
    "colab_type": "text",
    "id": "zvEvJjkf7SB4"
   },
   "source": [
    "## Question 6\n",
    "<b> PERFORMANCE OF THE MODEL </b>"
   ]
  },
  {
   "cell_type": "markdown",
   "metadata": {
    "colab_type": "text",
    "id": "D_SFYwEA7SB8"
   },
   "source": [
    "$P(Chance) = P(Choose \\  Class \\ 1|Class\\  1) + P(Choose \\  Class\\ 2|Class\\ 2) + P(Choose \\ Class\\ 3|Class\\ 3)$\n",
    "\n",
    "$P(Choose \\  Class \\ i) = \\text{ Number of instance of class i in training data}/ \\text{ Total number of Observations in training data}$\n",
    "\n",
    "$P(Class \\ i) = \\text{ Number of instance of class i in testing data}/ \\text{ Total number of Observations in testing data}$\n",
    "\n",
    "$P(Choose \\  Class \\ i|Class\\  i) = P(Choose \\  Class \\ i) \\times P(Class \\ i)$ ( They are Independent)"
   ]
  },
  {
   "cell_type": "code",
   "execution_count": 0,
   "metadata": {
    "colab": {
     "base_uri": "https://localhost:8080/",
     "height": 85
    },
    "colab_type": "code",
    "executionInfo": {
     "elapsed": 255,
     "status": "ok",
     "timestamp": 1550540639695,
     "user": {
      "displayName": "Qasim Nazir",
      "photoUrl": "https://lh3.googleusercontent.com/-l-ZaWBCgmIs/AAAAAAAAAAI/AAAAAAAAYSo/-zOTCilviDI/s64/photo.jpg",
      "userId": "05547482919120757611"
     },
     "user_tz": 360
    },
    "id": "FhpAtxwn7SB9",
    "outputId": "756337f9-45b9-4b24-a2f9-fc3cb918c217"
   },
   "outputs": [
    {
     "name": "stdout",
     "output_type": "stream",
     "text": [
      "train probabilities classes: [0.2967033  0.35531136 0.34798535]\n",
      "test probabilities for classes: [0.29756098 0.34146341 0.36097561]\n",
      "The probabilities for guessing are: 0.3352273742517645\n",
      "Hence Algorithm is doing better than chance\n"
     ]
    }
   ],
   "source": [
    "_, counts_train = np.unique(train[:,-1],return_counts=True)\n",
    "train_probs = counts_train/len(train[:,-1])\n",
    "print('train probabilities classes:',train_probs)\n",
    "vals, counts_test = np.unique(test[:,-1],return_counts=True)\n",
    "test_class_probs = counts_test/len(test[:,-1])\n",
    "print('test probabilities for classes:',test_class_probs)\n",
    "\n",
    "Guess_right = sum(train_probs*test_class_probs)\n",
    "print('The accuracy for guessing is:',(Guess_right))\n",
    "\n",
    "print('Hence Algorithm is doing better than chance')"
   ]
  },
  {
   "cell_type": "markdown",
   "metadata": {
    "colab_type": "text",
    "id": "BDtZBAFH7SCC"
   },
   "source": [
    "## Question 7"
   ]
  },
  {
   "cell_type": "markdown",
   "metadata": {
    "colab_type": "text",
    "id": "RKM_3vFNLphc"
   },
   "source": [
    "Assumption: $$p({x_i}|{x_{i + 1}},{x_{i + 2}},..,{x_n},{C_k}) = p({x_i}|{C_k})$$"
   ]
  },
  {
   "cell_type": "markdown",
   "metadata": {
    "colab_type": "text",
    "id": "i1DFltkl7SCE"
   },
   "source": [
    "The assumption of the model is class conditional independence\n",
    "The assumptions seem to be reasonable as given a class of disengagement, the location: Highway or Street, Weather: Cloudy or Clear and Type of Trigger: Automatic or Manual, seem to be reasonable\n",
    "\n",
    "*Testing the assumption for all classes:*"
   ]
  },
  {
   "cell_type": "code",
   "execution_count": 0,
   "metadata": {
    "colab": {},
    "colab_type": "code",
    "id": "-owNuce13JD9"
   },
   "outputs": [],
   "source": [
    "#Dividing data into classes\n",
    "data = diseng[['Location','Weather','TypeOfTrigger','Class']]\n",
    "Percept = data.loc[data['Class'] =='Perception System']\n",
    "Controll = data.loc[data['Class'] == 'Controller']\n",
    "ComputerSystem = data.loc[data['Class'] == 'Computer System']"
   ]
  },
  {
   "cell_type": "markdown",
   "metadata": {
    "colab_type": "text",
    "id": "fNx3ea5K3JD_"
   },
   "source": [
    "<b> For Controller <b>"
   ]
  },
  {
   "cell_type": "markdown",
   "metadata": {
    "colab_type": "text",
    "id": "5VCfJCU73JD_"
   },
   "source": [
    "Testing Independece of Weather and Type of Trigger"
   ]
  },
  {
   "cell_type": "code",
   "execution_count": 0,
   "metadata": {
    "colab": {
     "base_uri": "https://localhost:8080/",
     "height": 34
    },
    "colab_type": "code",
    "executionInfo": {
     "elapsed": 297,
     "status": "ok",
     "timestamp": 1550540790993,
     "user": {
      "displayName": "Qasim Nazir",
      "photoUrl": "https://lh3.googleusercontent.com/-l-ZaWBCgmIs/AAAAAAAAAAI/AAAAAAAAYSo/-zOTCilviDI/s64/photo.jpg",
      "userId": "05547482919120757611"
     },
     "user_tz": 360
    },
    "id": "RCg5kThV3JEA",
    "outputId": "3f435797-d443-4996-c6a3-1e87be00f876"
   },
   "outputs": [
    {
     "name": "stdout",
     "output_type": "stream",
     "text": [
      "As p-val is 0.27903314254026157 null hypothesis is not rejected and these are independent\n"
     ]
    }
   ],
   "source": [
    "Num_manual_Cloudy = ((Controll['Weather']== 'cloudy') & (Controll['TypeOfTrigger'] == 'manual')).sum()\n",
    "Num_auto_Cloudy = ((Controll['Weather']== 'cloudy') & (Controll['TypeOfTrigger'] == 'automatic')).sum()\n",
    "Num_manual_Clear = ((Controll['Weather']== 'clear') & (Controll['TypeOfTrigger'] == 'manual')).sum()\n",
    "Num_auto_Clear = ((Controll['Weather']== 'clear') & (Controll['TypeOfTrigger'] == 'automatic')).sum()\n",
    "\n",
    "Table = pd.DataFrame(data = {'Clear': [Num_manual_Clear, Num_auto_Clear], 'Cloudy': [Num_manual_Cloudy, Num_auto_Cloudy]}, index = ['Manual', 'Auto'])\n",
    "Table\n",
    "chi2, p, dof, expected = stats.chi2_contingency(Table)\n",
    "print('As p-val is',p,'null hypothesis is not rejected and these are independent')"
   ]
  },
  {
   "cell_type": "markdown",
   "metadata": {
    "colab_type": "text",
    "id": "aSUAfd-t3JEB"
   },
   "source": [
    "Testing Independece of Location and Type of Trigger"
   ]
  },
  {
   "cell_type": "code",
   "execution_count": 0,
   "metadata": {
    "colab": {
     "base_uri": "https://localhost:8080/",
     "height": 85
    },
    "colab_type": "code",
    "executionInfo": {
     "elapsed": 418,
     "status": "ok",
     "timestamp": 1550540795926,
     "user": {
      "displayName": "Qasim Nazir",
      "photoUrl": "https://lh3.googleusercontent.com/-l-ZaWBCgmIs/AAAAAAAAAAI/AAAAAAAAYSo/-zOTCilviDI/s64/photo.jpg",
      "userId": "05547482919120757611"
     },
     "user_tz": 360
    },
    "id": "qWi5RI5K3JEB",
    "outputId": "1e840a49-58b2-437b-84c2-2cf2bb9c4fc4"
   },
   "outputs": [
    {
     "name": "stdout",
     "output_type": "stream",
     "text": [
      "        highway  urban-street\n",
      "Manual        0           313\n",
      "Auto          0            48\n",
      "Data not available for one column, chi-square test cannot be applied\n"
     ]
    }
   ],
   "source": [
    "Num_manual_urbanstreet = ((Controll['Location'] == 'urban-street') & (Controll['TypeOfTrigger'] == 'manual')).sum()\n",
    "Num_auto_urbanstreet = ((Controll['Location']== 'urban-street') & (Controll['TypeOfTrigger'] == 'automatic')).sum()\n",
    "Num_manual_highway= ((Controll['Location']== 'highway') & (Controll['TypeOfTrigger'] == 'manual')).sum()\n",
    "Num_auto_highway = ((Controll['Location']== 'highway') & (Controll['TypeOfTrigger'] == 'automatic')).sum()\n",
    "\n",
    "Table = pd.DataFrame(data = {'urban-street': [Num_manual_urbanstreet, Num_auto_urbanstreet], 'highway': [Num_manual_highway, Num_auto_highway]}, index = ['Manual', 'Auto'])\n",
    "print(Table)\n",
    "#chi2, p, dof, expected = stats.chi2_contingency(Table)\n",
    "print('Data not available for one column, chi-square test cannot be applied')"
   ]
  },
  {
   "cell_type": "markdown",
   "metadata": {
    "colab_type": "text",
    "id": "VIqYUek83JEC"
   },
   "source": [
    "For the class : <b> Computer System </b>"
   ]
  },
  {
   "cell_type": "markdown",
   "metadata": {
    "colab_type": "text",
    "id": "qzdBDWrY3JED"
   },
   "source": [
    "Testing Independence of Location and Type of Trigger"
   ]
  },
  {
   "cell_type": "code",
   "execution_count": 0,
   "metadata": {
    "colab": {
     "base_uri": "https://localhost:8080/",
     "height": 85
    },
    "colab_type": "code",
    "executionInfo": {
     "elapsed": 287,
     "status": "ok",
     "timestamp": 1550540800335,
     "user": {
      "displayName": "Qasim Nazir",
      "photoUrl": "https://lh3.googleusercontent.com/-l-ZaWBCgmIs/AAAAAAAAAAI/AAAAAAAAYSo/-zOTCilviDI/s64/photo.jpg",
      "userId": "05547482919120757611"
     },
     "user_tz": 360
    },
    "id": "o7CzRw_13JEE",
    "outputId": "55146ac6-d2c3-46ad-a264-62958504b231"
   },
   "outputs": [
    {
     "name": "stdout",
     "output_type": "stream",
     "text": [
      "        highway  urban-street\n",
      "Manual       19           138\n",
      "Auto          1           146\n",
      "As p-val is 0.0001551155946845226 which is low, hence the two variables are not independent\n"
     ]
    }
   ],
   "source": [
    "Num_manual_urbanstreet = ((ComputerSystem['Location'] == 'urban-street') & (ComputerSystem['TypeOfTrigger'] == 'manual')).sum()\n",
    "Num_auto_urbanstreet = ((ComputerSystem['Location']== 'urban-street') & (ComputerSystem['TypeOfTrigger'] == 'automatic')).sum()\n",
    "Num_manual_highway= ((ComputerSystem['Location']== 'highway') & (ComputerSystem['TypeOfTrigger'] == 'manual')).sum()\n",
    "Num_auto_highway = ((ComputerSystem['Location']== 'highway') & (ComputerSystem['TypeOfTrigger'] == 'automatic')).sum()\n",
    "\n",
    "Table = pd.DataFrame(data = {'urban-street': [Num_manual_urbanstreet, Num_auto_urbanstreet], 'highway': [Num_manual_highway, Num_auto_highway]}, index = ['Manual', 'Auto'])\n",
    "print(Table)\n",
    "chi2, p, dof, expected = stats.chi2_contingency(Table)\n",
    "print('As p-val is',p,'which is low, hence the two variables are not independent')"
   ]
  },
  {
   "cell_type": "markdown",
   "metadata": {
    "colab_type": "text",
    "id": "Kj0-WOmi3JEH"
   },
   "source": [
    "Therefore, the assumption that Location and Type of Trigger are class conditionally independent is invalid for the class Computer System. "
   ]
  },
  {
   "cell_type": "markdown",
   "metadata": {
    "colab_type": "text",
    "id": "k13ybqDc7SCF"
   },
   "source": [
    "## Question 8"
   ]
  },
  {
   "cell_type": "markdown",
   "metadata": {
    "colab_type": "text",
    "id": "YZ_ejBHN7SCG"
   },
   "source": [
    "As seen above that the class conditional independence is invalid for one case and also cannot be tested for another indicates that the Naive Bayes may not be perfectly accurate for this type of data. Classification accuracy may be improved by using other type of classifiers which do not make such assumption. (example: Logistic Regression)"
   ]
  }
 ],
 "metadata": {
  "colab": {
   "collapsed_sections": [
    "g-MFRaELSAZl",
    "12tb2yjGSAZ1",
    "Gd5QVogjgKMb"
   ],
   "name": "MP_Main_file.ipynb",
   "provenance": [],
   "version": "0.3.2"
  },
  "kernelspec": {
   "display_name": "Python 3",
   "language": "python",
   "name": "python3"
  },
  "language_info": {
   "codemirror_mode": {
    "name": "ipython",
    "version": 3
   },
   "file_extension": ".py",
   "mimetype": "text/x-python",
   "name": "python",
   "nbconvert_exporter": "python",
   "pygments_lexer": "ipython3",
   "version": "3.7.3"
  },
  "toc": {
   "base_numbering": 1,
   "nav_menu": {},
   "number_sections": true,
   "sideBar": true,
   "skip_h1_title": false,
   "title_cell": "Table of Contents",
   "title_sidebar": "Contents",
   "toc_cell": false,
   "toc_position": {},
   "toc_section_display": true,
   "toc_window_display": false
  },
  "varInspector": {
   "cols": {
    "lenName": 16,
    "lenType": 16,
    "lenVar": 40
   },
   "kernels_config": {
    "python": {
     "delete_cmd_postfix": "",
     "delete_cmd_prefix": "del ",
     "library": "var_list.py",
     "varRefreshCmd": "print(var_dic_list())"
    },
    "r": {
     "delete_cmd_postfix": ") ",
     "delete_cmd_prefix": "rm(",
     "library": "var_list.r",
     "varRefreshCmd": "cat(var_dic_list()) "
    }
   },
   "types_to_exclude": [
    "module",
    "function",
    "builtin_function_or_method",
    "instance",
    "_Feature"
   ],
   "window_display": false
  }
 },
 "nbformat": 4,
 "nbformat_minor": 1
}
